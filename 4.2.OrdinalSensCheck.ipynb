{
 "cells": [
  {
   "cell_type": "markdown",
   "id": "783f2f6b",
   "metadata": {},
   "source": [
    "# Sensitivity Analysis Notebook Ordinal vs Categorical\n",
    "\n",
    "## Introduction\n",
    "\n",
    "In this notebook, we perform a sensitivity analysis to compare the main model (ordinal) with an alternate (categorical) model.\n",
    "\n",
    "The goal is to see if, in the future, the model will be able to handle non-ordinal comparisons such as food items.\n",
    "\n",
    "\n",
    "## Libraries Used\n",
    "\n",
    "First, we import the necessary libraries for data manipulation, probabilistic programming, and visualization.\n"
   ]
  },
  {
   "cell_type": "code",
   "execution_count": 1,
   "id": "7142b879",
   "metadata": {},
   "outputs": [],
   "source": [
    "# Data manipulation and analysis\n",
    "import pandas as pd  # For data manipulation and analysis\n",
    "import numpy as np  # For numerical operations and array manipulation\n",
    "\n",
    "# Probabilistic programming and Bayesian statistical modeling\n",
    "import pymc as pm  \n",
    "import arviz as az  \n",
    "\n",
    "# Data visualization\n",
    "import matplotlib.pyplot as plt \n",
    "import seaborn as sns  \n",
    "\n",
    "# Suppressing warnings for cleaner output\n",
    "import warnings\n",
    "warnings.filterwarnings('ignore')\n",
    "\n",
    "import logging\n",
    "logger = logging.getLogger(\"pymc\")\n",
    "logger.propagate = False\n",
    "logger.setLevel(logging.ERROR)"
   ]
  },
  {
   "cell_type": "markdown",
   "id": "acf158eb",
   "metadata": {},
   "source": [
    "## Load Preprocessed Data\n",
    "\n",
    "### Load Cleaned Data"
   ]
  },
  {
   "cell_type": "code",
   "execution_count": 2,
   "id": "b79e5108",
   "metadata": {},
   "outputs": [
    {
     "name": "stdout",
     "output_type": "stream",
     "text": [
      "Participants in-person:  66 \n",
      "participants online:  332\n"
     ]
    }
   ],
   "source": [
    "db_mon = pd.read_csv('data/mon_clean.csv')\n",
    "db_med = pd.read_csv('data/med_clean.csv')\n",
    "\n",
    "db_mon_online = pd.read_csv('data_online/mon_clean.csv')\n",
    "db_med_online = pd.read_csv('data_online/med_clean.csv')\n",
    "\n",
    "print('Participants in-person: ', len(db_mon['sub'].unique()), '\\nparticipants online: ', len(db_mon_online['sub'].unique()))"
   ]
  },
  {
   "cell_type": "markdown",
   "id": "25bd002c",
   "metadata": {},
   "source": [
    "### Extract Indices and Subject Numbers"
   ]
  },
  {
   "cell_type": "code",
   "execution_count": 3,
   "id": "dd55fdc9",
   "metadata": {},
   "outputs": [],
   "source": [
    "# Assign a unique serial number for each participant.\n",
    "db_mon['subn'] = db_mon['sub'].rank(method='dense').astype(int) - 1\n",
    "db_mon_online['subn'] = db_mon_online['sub'].rank(method='dense').astype(int) - 1\n",
    "\n",
    "\n",
    "# Count the number of unique subjects in the 'db_mon' dataset.\n",
    "n_subs = db_mon['subn'].unique().shape[0]\n",
    "n_subs_online = db_mon_online['subn'].unique().shape[0]\n",
    "\n",
    "# Create a list of subject indices for all rows in the 'db_mon' dataset.\n",
    "sub_idx = db_mon.subn.tolist()\n",
    "sub_idx_online = db_mon_online.subn.tolist()\n",
    "\n",
    "# Assign a unique serial number for each participant. This will be useful for indexing operations.\n",
    "db_med['subn'] = db_med['sub'].rank(method='dense').astype(int) - 1\n",
    "db_med_online['subn'] = db_med_online['sub'].rank(method='dense').astype(int) - 1\n",
    "\n",
    "\n",
    "# Count the number of unique subjects in the 'db_med' dataset.\n",
    "n_subs_med = db_med['subn'].unique().shape[0]\n",
    "n_subs_med_online = db_med_online['subn'].unique().shape[0]\n",
    "\n",
    "# Create a list of subject indices for all rows in the 'db_med' dataset.\n",
    "sub_idx_med = db_med.subn.tolist()\n",
    "sub_idx_med_online = db_med_online.subn.tolist()"
   ]
  },
  {
   "cell_type": "markdown",
   "id": "cd4663e7",
   "metadata": {},
   "source": [
    "## 1. Estimated Value Model (Ordinal)\n",
    "\n",
    "In this model, we assume that the data is ordinal. While we still include the ambiguity attitude parameter, the risk attitude parameter becomes irrelevant because risk is value-based. This model is capable of estimating quantitative values for qualitative outcomes.\n",
    "\n",
    "### Model Parameters:\n",
    "\n",
    "- **Ambiguity Attitude (β):**\n",
    "  - β = 0: Ambiguity neutral\n",
    "  - β > 0: Ambiguity averse\n",
    "  - β < 0: Ambiguity seeking\n",
    "\n",
    "### Hyper Priors:\n",
    "- **Ambiguity Aversion (β):** 0.65 (based on Levy et al., 2010)\n",
    "\n",
    "\n",
    "We will estimate the quantitative values corresponding to these ordinal outcomes.\n"
   ]
  },
  {
   "cell_type": "code",
   "execution_count": 4,
   "id": "8ee1c07c",
   "metadata": {},
   "outputs": [],
   "source": [
    "def estimate_value_ord(df, n_subs, idx):\n",
    "    \"\"\"\n",
    "    Estimate the value of different reward levels using ordinal constraints and a common hyperprior for each level. \n",
    "    The model ensures that the levels are positive (ordinal constraints).\n",
    "\n",
    "    Parameters:\n",
    "    - df: DataFrame with trial-specific details, such as choices, value levels, risk, and ambiguity levels.\n",
    "    - n_sub: Total number of subjects in the dataset.\n",
    "    - idx: A list indicating the subject ID for each observation/trial.\n",
    "\n",
    "    Returns:\n",
    "    - trace: Samples from the posterior distribution of the model.\n",
    "    \"\"\"\n",
    "    \n",
    "    with pm.Model() as estimate:\n",
    "\n",
    "        # Hyperparameters for group-level distributions\n",
    "        bMu  = pm.Normal('bMu', .65, 1)     # Mean for ambiguity effect distribution\n",
    "        bSig = pm.Gamma('bSig', 2, 1)       # SD for ambiguity effect distribution\n",
    "\n",
    "\n",
    "       # Hyperparameters for group-level subjective value levels\n",
    "        l1Mu = pm.TruncatedNormal('l1Mu', 4, 2, lower=0)  # Mean for value of level 1\n",
    "        l2Mu = pm.TruncatedNormal('l2Mu', 4, 2, lower=0)  # ... level 2\n",
    "        l3Mu = pm.TruncatedNormal('l3Mu', 4, 2, lower=0)  # ... level 3\n",
    "        l4Mu = pm.TruncatedNormal('l4Mu', 4, 2, lower=0)  # ... level 4\n",
    "        \n",
    "        l1sd = pm.Gamma('l1sd', 3, 1)  # SD for value of level 1\n",
    "        l2sd = pm.Gamma('l2sd', 3, 1)  # ... level 2\n",
    "        l3sd = pm.Gamma('l3sd', 3, 1)  # ... level 3\n",
    "        l4sd = pm.Gamma('l4sd', 3, 1)  # ... level 4\n",
    "        \n",
    "        # Subject-specific priors \n",
    "        β = pm.Normal('β',    bMu, bSig, shape = n_subs)   # Modulation of ambiguity effect\n",
    "        γ = pm.Lognormal('γ', 0, 0.25, shape = n_subs)   # Inverse temperature, impacting choice stochasticity\n",
    "\n",
    "        # Priors for subjective values of the different reward levels for each subject.\n",
    "        level1 = pm.TruncatedNormal('level1', l1Mu, l1sd, lower = 0, shape = n_subs)\n",
    "        level2 = pm.TruncatedNormal('level2', l2Mu, l2sd, lower = 0, shape = n_subs)\n",
    "        level3 = pm.TruncatedNormal('level3', l3Mu, l3sd, lower = 0, shape = n_subs)\n",
    "        level4 = pm.TruncatedNormal('level4', l4Mu, l4sd, lower = 0, shape = n_subs)\n",
    "\n",
    "        # Calculate the total expected value for each trial by combining values from different levels\n",
    "        val = (df['l1'].values * level1[idx] + \n",
    "               df['l2'].values * level2[idx] + \n",
    "               df['l3'].values * level3[idx] + \n",
    "               df['l4'].values * level4[idx]) \n",
    "\n",
    "        # Calculate adjusted probability by considering both risk and ambiguity levels modulated by β\n",
    "        prob = (df['risk'].values) - (β[idx] * (df['ambiguity'].values/2))  \n",
    "\n",
    "        # Compute the subjective value of the lottery option\n",
    "        svLotto = val * prob\n",
    "        svRef   = level1[idx]  # The subjective value of the reference option\n",
    "\n",
    "        # Transform the SV difference between lottery and reference into a choice probability using the logistic function\n",
    "        p  = (svLotto - svRef) / γ[idx]\n",
    "        mu = pm.invlogit(p)\n",
    "\n",
    "        # Likelihood of the observed choices given the computed probabilities\n",
    "        choice = pm.Binomial('choice', 1, mu, observed=df['choice'])\n",
    "\n",
    "        trace = pm.sample(idata_kwargs={'log_likelihood':True})\n",
    "        \n",
    "    return(trace)"
   ]
  },
  {
   "cell_type": "markdown",
   "id": "7fb61f97-3316-4c46-a799-678d51b02e10",
   "metadata": {},
   "source": [
    "## 2. Estimated Value Model (Semi-Categorical)\n",
    "\n",
    "In this model, we assume that the data is categorical and can hold negative values, however, each category adds value to the previous category. "
   ]
  },
  {
   "cell_type": "code",
   "execution_count": 5,
   "id": "dc5fae6e-b428-4ed9-8e9d-35e933e47abc",
   "metadata": {},
   "outputs": [],
   "source": [
    "def estimate_value(df, n_subs, idx):\n",
    "    \"\"\"\n",
    "    Estimate the value of different reward levels using ordinal constraints and a common hyperprior for each level. \n",
    "    The model ensures that the levels are positive (ordinal constraints).\n",
    "\n",
    "    Parameters:\n",
    "    - df: DataFrame with trial-specific details, such as choices, value levels, risk, and ambiguity levels.\n",
    "    - n_sub: Total number of subjects in the dataset.\n",
    "    - idx: A list indicating the subject ID for each observation/trial.\n",
    "\n",
    "    Returns:\n",
    "    - trace: Samples from the posterior distribution of the model.\n",
    "    \"\"\"\n",
    "    \n",
    "    with pm.Model() as estimate:\n",
    "\n",
    "        # Hyperparameters for group-level distributions\n",
    "        bMu  = pm.Normal('bMu', .65, 1)     # Mean for ambiguity effect distribution\n",
    "        bSig = pm.Gamma('bSig', 2, 1)       # SD for ambiguity effect distribution\n",
    "\n",
    "\n",
    "       # Hyperparameters for group-level subjective value levels\n",
    "        l1Mu = pm.Normal('l1Mu', 4, 2)  # Mean for value of level 1\n",
    "        l2Mu = pm.Normal('l2Mu', 4, 2)  # ... level 2\n",
    "        l3Mu = pm.Normal('l3Mu', 4, 2)  # ... level 3\n",
    "        l4Mu = pm.Normal('l4Mu', 4, 2)  # ... level 4\n",
    "        \n",
    "        l1sd = pm.Gamma('l1sd', 3, 1)  # SD for value of level 1\n",
    "        l2sd = pm.Gamma('l2sd', 3, 1)  # ... level 2\n",
    "        l3sd = pm.Gamma('l3sd', 3, 1)  # ... level 3\n",
    "        l4sd = pm.Gamma('l4sd', 3, 1)  # ... level 4\n",
    "        \n",
    "        # Subject-specific priors \n",
    "        β = pm.Normal('β',    bMu, bSig, shape = n_subs)   # Modulation of ambiguity effect\n",
    "        γ = pm.Lognormal('γ', 0, 0.25, shape = n_subs)   # Inverse temperature, impacting choice stochasticity\n",
    "\n",
    "        # Priors for subjective values of the different reward levels for each subject.\n",
    "        level1 = pm.Normal('level1', l1Mu, l1sd, shape = n_subs)\n",
    "        level2 = pm.Normal('level2', l2Mu, l2sd, shape = n_subs)\n",
    "        level3 = pm.Normal('level3', l3Mu, l3sd, shape = n_subs)\n",
    "        level4 = pm.Normal('level4', l4Mu, l4sd, shape = n_subs)\n",
    "\n",
    "        # Calculate the total expected value for each trial by combining values from different levels\n",
    "        val = (df['l1'].values * level1[idx] + \n",
    "               df['l2'].values * level2[idx] + \n",
    "               df['l3'].values * level3[idx] + \n",
    "               df['l4'].values * level4[idx]) \n",
    "\n",
    "        # Calculate adjusted probability by considering both risk and ambiguity levels modulated by β\n",
    "        prob = (df['risk'].values) - (β[idx] * (df['ambiguity'].values/2))  \n",
    "\n",
    "        # Compute the subjective value of the lottery option\n",
    "        svLotto = val * prob\n",
    "        svRef   = level1[idx]  # The subjective value of the reference option\n",
    "\n",
    "        # Transform the SV difference between lottery and reference into a choice probability using the logistic function\n",
    "        p  = (svLotto - svRef) / γ[idx]\n",
    "        mu = pm.invlogit(p)\n",
    "\n",
    "        # Likelihood of the observed choices given the computed probabilities\n",
    "        choice = pm.Binomial('choice', 1, mu, observed=df['choice'])\n",
    "\n",
    "        trace = pm.sample(idata_kwargs={'log_likelihood':True})\n",
    "        \n",
    "    return(trace)"
   ]
  },
  {
   "cell_type": "markdown",
   "id": "f7408afc-50ef-4e41-b605-84e907802247",
   "metadata": {},
   "source": [
    "## 3. Estimated Value Model (Full Categorical)\n",
    "\n",
    "In this model, each category is calculated seperatly. This pose a problem in this datasets due to the increase in magnitude of the outcomes."
   ]
  },
  {
   "cell_type": "code",
   "execution_count": 6,
   "id": "0949425d-7065-47d8-8075-49a646d7d1c5",
   "metadata": {},
   "outputs": [],
   "source": [
    "def estimate_value_cat(df, n_subs, idx):\n",
    "    \"\"\"\n",
    "    Estimate the value of different reward levels using ordinal constraints and a common hyperprior for each level. \n",
    "    The model ensures that the levels are positive (ordinal constraints).\n",
    "\n",
    "    Parameters:\n",
    "    - df: DataFrame with trial-specific details, such as choices, value levels, risk, and ambiguity levels.\n",
    "    - n_sub: Total number of subjects in the dataset.\n",
    "    - idx: A list indicating the subject ID for each observation/trial.\n",
    "\n",
    "    Returns:\n",
    "    - trace: Samples from the posterior distribution of the model.\n",
    "    \"\"\"\n",
    "    \n",
    "    with pm.Model() as estimate:\n",
    "\n",
    "        # Hyperparameters for group-level distributions\n",
    "        bMu  = pm.Normal('bMu', .65, 1)     # Mean for ambiguity effect distribution\n",
    "        bSig = pm.Gamma('bSig', 2, 1)       # SD for ambiguity effect distribution\n",
    "\n",
    "\n",
    "       # Hyperparameters for group-level subjective value levels\n",
    "        l1Mu = pm.Normal('l1Mu', 5, 2)  # Mean for value of level 1\n",
    "        l2Mu = pm.Normal('l2Mu', 12, 2)  # ... level 2\n",
    "        l3Mu = pm.Normal('l3Mu', 20, 2)  # ... level 3\n",
    "        l4Mu = pm.Normal('l4Mu', 25, 2)  # ... level 4\n",
    "        \n",
    "        \n",
    "        # Subject-specific priors \n",
    "        β = pm.Normal('β',    bMu, bSig, shape = n_subs)   # Modulation of ambiguity effect\n",
    "        γ = pm.Lognormal('γ', 0, 0.25, shape = n_subs)   # Inverse temperature, impacting choice stochasticity\n",
    "\n",
    "        # Priors for subjective values of the different reward levels for each subject.\n",
    "        level1 = pm.Normal('level1', l1Mu, 2, shape = n_subs)\n",
    "        level2 = pm.Normal('level2', l2Mu, 2, shape = n_subs)\n",
    "        level3 = pm.Normal('level3', l3Mu, 2, shape = n_subs)\n",
    "        level4 = pm.Normal('level4', l4Mu, 2, shape = n_subs)\n",
    "\n",
    "        # Extract the 'level' column as a tensor\n",
    "        level = df['level'].values  # Ensure this is a NumPy array or similar\n",
    "    \n",
    "        # Implement nested switch statements\n",
    "        val = pm.math.switch(\n",
    "            level == 1, level1[idx],\n",
    "            pm.math.switch(\n",
    "                level == 2, level2[idx],\n",
    "                pm.math.switch(\n",
    "                    level == 3, level3[idx],\n",
    "                    level4[idx]  # Default case when level == 4\n",
    "                )\n",
    "            )\n",
    "        ) \n",
    "\n",
    "        # Calculate adjusted probability by considering both risk and ambiguity levels modulated by β\n",
    "        prob = (df['risk'].values) - (β[idx] * (df['ambiguity'].values/2))  \n",
    "\n",
    "        # Compute the subjective value of the lottery option\n",
    "        svLotto = val * prob\n",
    "        svRef   = level1[idx]  # The subjective value of the reference option\n",
    "\n",
    "        # Transform the SV difference between lottery and reference into a choice probability using the logistic function\n",
    "        p  = (svLotto - svRef) / γ[idx]\n",
    "        mu = pm.invlogit(p)\n",
    "\n",
    "        # Likelihood of the observed choices given the computed probabilities\n",
    "        choice = pm.Binomial('choice', 1, mu, observed=df['choice'])\n",
    "\n",
    "        trace = pm.sample(idata_kwargs={'log_likelihood':True})\n",
    "        \n",
    "    return(trace)"
   ]
  },
  {
   "cell_type": "markdown",
   "id": "c6ca3a6c",
   "metadata": {},
   "source": [
    "## Run the models on the in-person datasets"
   ]
  },
  {
   "cell_type": "code",
   "execution_count": 7,
   "id": "d1ec2555",
   "metadata": {
    "scrolled": true
   },
   "outputs": [
    {
     "data": {
      "text/html": [
       "\n",
       "<style>\n",
       "    /* Turns off some styling */\n",
       "    progress {\n",
       "        /* gets rid of default border in Firefox and Opera. */\n",
       "        border: none;\n",
       "        /* Needs to be in here for Safari polyfill so background images work as expected. */\n",
       "        background-size: auto;\n",
       "    }\n",
       "    progress:not([value]), progress:not([value])::-webkit-progress-bar {\n",
       "        background: repeating-linear-gradient(45deg, #7e7e7e, #7e7e7e 10px, #5c5c5c 10px, #5c5c5c 20px);\n",
       "    }\n",
       "    .progress-bar-interrupted, .progress-bar-interrupted::-webkit-progress-bar {\n",
       "        background: #F44336;\n",
       "    }\n",
       "</style>\n"
      ],
      "text/plain": [
       "<IPython.core.display.HTML object>"
      ]
     },
     "metadata": {},
     "output_type": "display_data"
    },
    {
     "data": {
      "text/html": [
       "\n",
       "    <div>\n",
       "      <progress value='8000' class='' max='8000' style='width:300px; height:20px; vertical-align: middle;'></progress>\n",
       "      100.00% [8000/8000 01:31&lt;00:00 Sampling 4 chains, 0 divergences]\n",
       "    </div>\n",
       "    "
      ],
      "text/plain": [
       "<IPython.core.display.HTML object>"
      ]
     },
     "metadata": {},
     "output_type": "display_data"
    },
    {
     "data": {
      "text/html": [
       "\n",
       "<style>\n",
       "    /* Turns off some styling */\n",
       "    progress {\n",
       "        /* gets rid of default border in Firefox and Opera. */\n",
       "        border: none;\n",
       "        /* Needs to be in here for Safari polyfill so background images work as expected. */\n",
       "        background-size: auto;\n",
       "    }\n",
       "    progress:not([value]), progress:not([value])::-webkit-progress-bar {\n",
       "        background: repeating-linear-gradient(45deg, #7e7e7e, #7e7e7e 10px, #5c5c5c 10px, #5c5c5c 20px);\n",
       "    }\n",
       "    .progress-bar-interrupted, .progress-bar-interrupted::-webkit-progress-bar {\n",
       "        background: #F44336;\n",
       "    }\n",
       "</style>\n"
      ],
      "text/plain": [
       "<IPython.core.display.HTML object>"
      ]
     },
     "metadata": {},
     "output_type": "display_data"
    },
    {
     "data": {
      "text/html": [
       "\n",
       "    <div>\n",
       "      <progress value='8000' class='' max='8000' style='width:300px; height:20px; vertical-align: middle;'></progress>\n",
       "      100.00% [8000/8000 01:33&lt;00:00 Sampling 4 chains, 0 divergences]\n",
       "    </div>\n",
       "    "
      ],
      "text/plain": [
       "<IPython.core.display.HTML object>"
      ]
     },
     "metadata": {},
     "output_type": "display_data"
    },
    {
     "data": {
      "text/html": [
       "\n",
       "<style>\n",
       "    /* Turns off some styling */\n",
       "    progress {\n",
       "        /* gets rid of default border in Firefox and Opera. */\n",
       "        border: none;\n",
       "        /* Needs to be in here for Safari polyfill so background images work as expected. */\n",
       "        background-size: auto;\n",
       "    }\n",
       "    progress:not([value]), progress:not([value])::-webkit-progress-bar {\n",
       "        background: repeating-linear-gradient(45deg, #7e7e7e, #7e7e7e 10px, #5c5c5c 10px, #5c5c5c 20px);\n",
       "    }\n",
       "    .progress-bar-interrupted, .progress-bar-interrupted::-webkit-progress-bar {\n",
       "        background: #F44336;\n",
       "    }\n",
       "</style>\n"
      ],
      "text/plain": [
       "<IPython.core.display.HTML object>"
      ]
     },
     "metadata": {},
     "output_type": "display_data"
    },
    {
     "data": {
      "text/html": [
       "\n",
       "    <div>\n",
       "      <progress value='8000' class='' max='8000' style='width:300px; height:20px; vertical-align: middle;'></progress>\n",
       "      100.00% [8000/8000 01:48&lt;00:00 Sampling 4 chains, 0 divergences]\n",
       "    </div>\n",
       "    "
      ],
      "text/plain": [
       "<IPython.core.display.HTML object>"
      ]
     },
     "metadata": {},
     "output_type": "display_data"
    },
    {
     "data": {
      "text/html": [
       "\n",
       "<style>\n",
       "    /* Turns off some styling */\n",
       "    progress {\n",
       "        /* gets rid of default border in Firefox and Opera. */\n",
       "        border: none;\n",
       "        /* Needs to be in here for Safari polyfill so background images work as expected. */\n",
       "        background-size: auto;\n",
       "    }\n",
       "    progress:not([value]), progress:not([value])::-webkit-progress-bar {\n",
       "        background: repeating-linear-gradient(45deg, #7e7e7e, #7e7e7e 10px, #5c5c5c 10px, #5c5c5c 20px);\n",
       "    }\n",
       "    .progress-bar-interrupted, .progress-bar-interrupted::-webkit-progress-bar {\n",
       "        background: #F44336;\n",
       "    }\n",
       "</style>\n"
      ],
      "text/plain": [
       "<IPython.core.display.HTML object>"
      ]
     },
     "metadata": {},
     "output_type": "display_data"
    },
    {
     "data": {
      "text/html": [
       "\n",
       "    <div>\n",
       "      <progress value='8000' class='' max='8000' style='width:300px; height:20px; vertical-align: middle;'></progress>\n",
       "      100.00% [8000/8000 01:51&lt;00:00 Sampling 4 chains, 0 divergences]\n",
       "    </div>\n",
       "    "
      ],
      "text/plain": [
       "<IPython.core.display.HTML object>"
      ]
     },
     "metadata": {},
     "output_type": "display_data"
    },
    {
     "data": {
      "text/html": [
       "\n",
       "<style>\n",
       "    /* Turns off some styling */\n",
       "    progress {\n",
       "        /* gets rid of default border in Firefox and Opera. */\n",
       "        border: none;\n",
       "        /* Needs to be in here for Safari polyfill so background images work as expected. */\n",
       "        background-size: auto;\n",
       "    }\n",
       "    progress:not([value]), progress:not([value])::-webkit-progress-bar {\n",
       "        background: repeating-linear-gradient(45deg, #7e7e7e, #7e7e7e 10px, #5c5c5c 10px, #5c5c5c 20px);\n",
       "    }\n",
       "    .progress-bar-interrupted, .progress-bar-interrupted::-webkit-progress-bar {\n",
       "        background: #F44336;\n",
       "    }\n",
       "</style>\n"
      ],
      "text/plain": [
       "<IPython.core.display.HTML object>"
      ]
     },
     "metadata": {},
     "output_type": "display_data"
    },
    {
     "data": {
      "text/html": [
       "\n",
       "    <div>\n",
       "      <progress value='8000' class='' max='8000' style='width:300px; height:20px; vertical-align: middle;'></progress>\n",
       "      100.00% [8000/8000 01:46&lt;00:00 Sampling 4 chains, 0 divergences]\n",
       "    </div>\n",
       "    "
      ],
      "text/plain": [
       "<IPython.core.display.HTML object>"
      ]
     },
     "metadata": {},
     "output_type": "display_data"
    },
    {
     "data": {
      "text/html": [
       "\n",
       "<style>\n",
       "    /* Turns off some styling */\n",
       "    progress {\n",
       "        /* gets rid of default border in Firefox and Opera. */\n",
       "        border: none;\n",
       "        /* Needs to be in here for Safari polyfill so background images work as expected. */\n",
       "        background-size: auto;\n",
       "    }\n",
       "    progress:not([value]), progress:not([value])::-webkit-progress-bar {\n",
       "        background: repeating-linear-gradient(45deg, #7e7e7e, #7e7e7e 10px, #5c5c5c 10px, #5c5c5c 20px);\n",
       "    }\n",
       "    .progress-bar-interrupted, .progress-bar-interrupted::-webkit-progress-bar {\n",
       "        background: #F44336;\n",
       "    }\n",
       "</style>\n"
      ],
      "text/plain": [
       "<IPython.core.display.HTML object>"
      ]
     },
     "metadata": {},
     "output_type": "display_data"
    },
    {
     "data": {
      "text/html": [
       "\n",
       "    <div>\n",
       "      <progress value='8000' class='' max='8000' style='width:300px; height:20px; vertical-align: middle;'></progress>\n",
       "      100.00% [8000/8000 01:54&lt;00:00 Sampling 4 chains, 0 divergences]\n",
       "    </div>\n",
       "    "
      ],
      "text/plain": [
       "<IPython.core.display.HTML object>"
      ]
     },
     "metadata": {},
     "output_type": "display_data"
    }
   ],
   "source": [
    "mon_estimated_cat = estimate_value_cat(db_mon, n_subs, sub_idx)\n",
    "med_estimated_cat = estimate_value_cat(db_med, n_subs_med, sub_idx_med)\n",
    "\n",
    "mon_estimated = estimate_value(db_mon, n_subs, sub_idx)\n",
    "med_estimated = estimate_value(db_med, n_subs_med, sub_idx_med)\n",
    "\n",
    "mon_estimated_ord = estimate_value_ord(db_mon, n_subs, sub_idx)\n",
    "med_estimated_ord = estimate_value_ord(db_med, n_subs_med, sub_idx_med)"
   ]
  },
  {
   "cell_type": "markdown",
   "id": "00663135",
   "metadata": {},
   "source": [
    "## Run the models on the online datasets"
   ]
  },
  {
   "cell_type": "code",
   "execution_count": 8,
   "id": "abb9ab2f-bc44-427f-9d64-c2cb0287fc2a",
   "metadata": {},
   "outputs": [
    {
     "data": {
      "text/html": [
       "\n",
       "<style>\n",
       "    /* Turns off some styling */\n",
       "    progress {\n",
       "        /* gets rid of default border in Firefox and Opera. */\n",
       "        border: none;\n",
       "        /* Needs to be in here for Safari polyfill so background images work as expected. */\n",
       "        background-size: auto;\n",
       "    }\n",
       "    progress:not([value]), progress:not([value])::-webkit-progress-bar {\n",
       "        background: repeating-linear-gradient(45deg, #7e7e7e, #7e7e7e 10px, #5c5c5c 10px, #5c5c5c 20px);\n",
       "    }\n",
       "    .progress-bar-interrupted, .progress-bar-interrupted::-webkit-progress-bar {\n",
       "        background: #F44336;\n",
       "    }\n",
       "</style>\n"
      ],
      "text/plain": [
       "<IPython.core.display.HTML object>"
      ]
     },
     "metadata": {},
     "output_type": "display_data"
    },
    {
     "data": {
      "text/html": [
       "\n",
       "    <div>\n",
       "      <progress value='8000' class='' max='8000' style='width:300px; height:20px; vertical-align: middle;'></progress>\n",
       "      100.00% [8000/8000 05:40&lt;00:00 Sampling 4 chains, 0 divergences]\n",
       "    </div>\n",
       "    "
      ],
      "text/plain": [
       "<IPython.core.display.HTML object>"
      ]
     },
     "metadata": {},
     "output_type": "display_data"
    },
    {
     "data": {
      "text/html": [
       "\n",
       "<style>\n",
       "    /* Turns off some styling */\n",
       "    progress {\n",
       "        /* gets rid of default border in Firefox and Opera. */\n",
       "        border: none;\n",
       "        /* Needs to be in here for Safari polyfill so background images work as expected. */\n",
       "        background-size: auto;\n",
       "    }\n",
       "    progress:not([value]), progress:not([value])::-webkit-progress-bar {\n",
       "        background: repeating-linear-gradient(45deg, #7e7e7e, #7e7e7e 10px, #5c5c5c 10px, #5c5c5c 20px);\n",
       "    }\n",
       "    .progress-bar-interrupted, .progress-bar-interrupted::-webkit-progress-bar {\n",
       "        background: #F44336;\n",
       "    }\n",
       "</style>\n"
      ],
      "text/plain": [
       "<IPython.core.display.HTML object>"
      ]
     },
     "metadata": {},
     "output_type": "display_data"
    },
    {
     "data": {
      "text/html": [
       "\n",
       "    <div>\n",
       "      <progress value='8000' class='' max='8000' style='width:300px; height:20px; vertical-align: middle;'></progress>\n",
       "      100.00% [8000/8000 05:51&lt;00:00 Sampling 4 chains, 0 divergences]\n",
       "    </div>\n",
       "    "
      ],
      "text/plain": [
       "<IPython.core.display.HTML object>"
      ]
     },
     "metadata": {},
     "output_type": "display_data"
    },
    {
     "data": {
      "text/html": [
       "\n",
       "<style>\n",
       "    /* Turns off some styling */\n",
       "    progress {\n",
       "        /* gets rid of default border in Firefox and Opera. */\n",
       "        border: none;\n",
       "        /* Needs to be in here for Safari polyfill so background images work as expected. */\n",
       "        background-size: auto;\n",
       "    }\n",
       "    progress:not([value]), progress:not([value])::-webkit-progress-bar {\n",
       "        background: repeating-linear-gradient(45deg, #7e7e7e, #7e7e7e 10px, #5c5c5c 10px, #5c5c5c 20px);\n",
       "    }\n",
       "    .progress-bar-interrupted, .progress-bar-interrupted::-webkit-progress-bar {\n",
       "        background: #F44336;\n",
       "    }\n",
       "</style>\n"
      ],
      "text/plain": [
       "<IPython.core.display.HTML object>"
      ]
     },
     "metadata": {},
     "output_type": "display_data"
    },
    {
     "data": {
      "text/html": [
       "\n",
       "    <div>\n",
       "      <progress value='8000' class='' max='8000' style='width:300px; height:20px; vertical-align: middle;'></progress>\n",
       "      100.00% [8000/8000 06:15&lt;00:00 Sampling 4 chains, 0 divergences]\n",
       "    </div>\n",
       "    "
      ],
      "text/plain": [
       "<IPython.core.display.HTML object>"
      ]
     },
     "metadata": {},
     "output_type": "display_data"
    },
    {
     "data": {
      "text/html": [
       "\n",
       "<style>\n",
       "    /* Turns off some styling */\n",
       "    progress {\n",
       "        /* gets rid of default border in Firefox and Opera. */\n",
       "        border: none;\n",
       "        /* Needs to be in here for Safari polyfill so background images work as expected. */\n",
       "        background-size: auto;\n",
       "    }\n",
       "    progress:not([value]), progress:not([value])::-webkit-progress-bar {\n",
       "        background: repeating-linear-gradient(45deg, #7e7e7e, #7e7e7e 10px, #5c5c5c 10px, #5c5c5c 20px);\n",
       "    }\n",
       "    .progress-bar-interrupted, .progress-bar-interrupted::-webkit-progress-bar {\n",
       "        background: #F44336;\n",
       "    }\n",
       "</style>\n"
      ],
      "text/plain": [
       "<IPython.core.display.HTML object>"
      ]
     },
     "metadata": {},
     "output_type": "display_data"
    },
    {
     "data": {
      "text/html": [
       "\n",
       "    <div>\n",
       "      <progress value='8000' class='' max='8000' style='width:300px; height:20px; vertical-align: middle;'></progress>\n",
       "      100.00% [8000/8000 06:21&lt;00:00 Sampling 4 chains, 0 divergences]\n",
       "    </div>\n",
       "    "
      ],
      "text/plain": [
       "<IPython.core.display.HTML object>"
      ]
     },
     "metadata": {},
     "output_type": "display_data"
    },
    {
     "data": {
      "text/html": [
       "\n",
       "<style>\n",
       "    /* Turns off some styling */\n",
       "    progress {\n",
       "        /* gets rid of default border in Firefox and Opera. */\n",
       "        border: none;\n",
       "        /* Needs to be in here for Safari polyfill so background images work as expected. */\n",
       "        background-size: auto;\n",
       "    }\n",
       "    progress:not([value]), progress:not([value])::-webkit-progress-bar {\n",
       "        background: repeating-linear-gradient(45deg, #7e7e7e, #7e7e7e 10px, #5c5c5c 10px, #5c5c5c 20px);\n",
       "    }\n",
       "    .progress-bar-interrupted, .progress-bar-interrupted::-webkit-progress-bar {\n",
       "        background: #F44336;\n",
       "    }\n",
       "</style>\n"
      ],
      "text/plain": [
       "<IPython.core.display.HTML object>"
      ]
     },
     "metadata": {},
     "output_type": "display_data"
    },
    {
     "data": {
      "text/html": [
       "\n",
       "    <div>\n",
       "      <progress value='8000' class='' max='8000' style='width:300px; height:20px; vertical-align: middle;'></progress>\n",
       "      100.00% [8000/8000 03:42&lt;00:00 Sampling 4 chains, 0 divergences]\n",
       "    </div>\n",
       "    "
      ],
      "text/plain": [
       "<IPython.core.display.HTML object>"
      ]
     },
     "metadata": {},
     "output_type": "display_data"
    },
    {
     "data": {
      "text/html": [
       "\n",
       "<style>\n",
       "    /* Turns off some styling */\n",
       "    progress {\n",
       "        /* gets rid of default border in Firefox and Opera. */\n",
       "        border: none;\n",
       "        /* Needs to be in here for Safari polyfill so background images work as expected. */\n",
       "        background-size: auto;\n",
       "    }\n",
       "    progress:not([value]), progress:not([value])::-webkit-progress-bar {\n",
       "        background: repeating-linear-gradient(45deg, #7e7e7e, #7e7e7e 10px, #5c5c5c 10px, #5c5c5c 20px);\n",
       "    }\n",
       "    .progress-bar-interrupted, .progress-bar-interrupted::-webkit-progress-bar {\n",
       "        background: #F44336;\n",
       "    }\n",
       "</style>\n"
      ],
      "text/plain": [
       "<IPython.core.display.HTML object>"
      ]
     },
     "metadata": {},
     "output_type": "display_data"
    },
    {
     "data": {
      "text/html": [
       "\n",
       "    <div>\n",
       "      <progress value='8000' class='' max='8000' style='width:300px; height:20px; vertical-align: middle;'></progress>\n",
       "      100.00% [8000/8000 03:44&lt;00:00 Sampling 4 chains, 0 divergences]\n",
       "    </div>\n",
       "    "
      ],
      "text/plain": [
       "<IPython.core.display.HTML object>"
      ]
     },
     "metadata": {},
     "output_type": "display_data"
    }
   ],
   "source": [
    "mon_estimated_online = estimate_value(db_mon_online, n_subs_online, sub_idx_online)\n",
    "med_estimated_online = estimate_value(db_med_online, n_subs_med_online, sub_idx_med_online)\n",
    "\n",
    "mon_estimated_online_ord = estimate_value_ord(db_mon_online, n_subs_online, sub_idx_online)\n",
    "med_estimated_online_ord = estimate_value_ord(db_med_online, n_subs_med_online, sub_idx_med_online)\n",
    "\n",
    "mon_estimated_online_cat = estimate_value_cat(db_mon_online, n_subs_online, sub_idx_online)\n",
    "med_estimated_online_cat = estimate_value_cat(db_med_online, n_subs_med_online, sub_idx_med_online)"
   ]
  },
  {
   "cell_type": "markdown",
   "id": "b1e32bd5-962a-4188-a321-933fb24a17ea",
   "metadata": {},
   "source": [
    "## Compare models"
   ]
  },
  {
   "cell_type": "code",
   "execution_count": 9,
   "id": "ca09d34d-04ed-4272-9417-e893f5b2f7bc",
   "metadata": {},
   "outputs": [
    {
     "name": "stdout",
     "output_type": "stream",
     "text": [
      "Monetary in-Person\n"
     ]
    },
    {
     "data": {
      "text/html": [
       "<div>\n",
       "<style scoped>\n",
       "    .dataframe tbody tr th:only-of-type {\n",
       "        vertical-align: middle;\n",
       "    }\n",
       "\n",
       "    .dataframe tbody tr th {\n",
       "        vertical-align: top;\n",
       "    }\n",
       "\n",
       "    .dataframe thead th {\n",
       "        text-align: right;\n",
       "    }\n",
       "</style>\n",
       "<table border=\"1\" class=\"dataframe\">\n",
       "  <thead>\n",
       "    <tr style=\"text-align: right;\">\n",
       "      <th></th>\n",
       "      <th>rank</th>\n",
       "      <th>elpd_loo</th>\n",
       "      <th>p_loo</th>\n",
       "      <th>elpd_diff</th>\n",
       "      <th>weight</th>\n",
       "      <th>se</th>\n",
       "      <th>dse</th>\n",
       "      <th>warning</th>\n",
       "      <th>scale</th>\n",
       "    </tr>\n",
       "  </thead>\n",
       "  <tbody>\n",
       "    <tr>\n",
       "      <th>Estimate Value Ordinal</th>\n",
       "      <td>0</td>\n",
       "      <td>-1560.883848</td>\n",
       "      <td>222.994940</td>\n",
       "      <td>0.000000</td>\n",
       "      <td>0.918119</td>\n",
       "      <td>45.454959</td>\n",
       "      <td>0.000000</td>\n",
       "      <td>True</td>\n",
       "      <td>log</td>\n",
       "    </tr>\n",
       "    <tr>\n",
       "      <th>Estimate Value</th>\n",
       "      <td>1</td>\n",
       "      <td>-1567.790372</td>\n",
       "      <td>240.239600</td>\n",
       "      <td>6.906524</td>\n",
       "      <td>0.081881</td>\n",
       "      <td>45.597207</td>\n",
       "      <td>4.098722</td>\n",
       "      <td>True</td>\n",
       "      <td>log</td>\n",
       "    </tr>\n",
       "    <tr>\n",
       "      <th>Estimate Value Categorical</th>\n",
       "      <td>2</td>\n",
       "      <td>-1610.418002</td>\n",
       "      <td>203.668597</td>\n",
       "      <td>49.534154</td>\n",
       "      <td>0.000000</td>\n",
       "      <td>44.976968</td>\n",
       "      <td>7.662955</td>\n",
       "      <td>True</td>\n",
       "      <td>log</td>\n",
       "    </tr>\n",
       "  </tbody>\n",
       "</table>\n",
       "</div>"
      ],
      "text/plain": [
       "                            rank     elpd_loo       p_loo  elpd_diff  \\\n",
       "Estimate Value Ordinal         0 -1560.883848  222.994940   0.000000   \n",
       "Estimate Value                 1 -1567.790372  240.239600   6.906524   \n",
       "Estimate Value Categorical     2 -1610.418002  203.668597  49.534154   \n",
       "\n",
       "                              weight         se       dse  warning scale  \n",
       "Estimate Value Ordinal      0.918119  45.454959  0.000000     True   log  \n",
       "Estimate Value              0.081881  45.597207  4.098722     True   log  \n",
       "Estimate Value Categorical  0.000000  44.976968  7.662955     True   log  "
      ]
     },
     "execution_count": 9,
     "metadata": {},
     "output_type": "execute_result"
    }
   ],
   "source": [
    "print('Monetary in-Person')\n",
    "compare_dict = {'Estimate Value':  mon_estimated,\n",
    "                'Estimate Value Ordinal': mon_estimated_ord,\n",
    "                'Estimate Value Categorical': mon_estimated_cat\n",
    "\n",
    "}\n",
    "\n",
    "comp = az.compare(compare_dict)\n",
    "comp"
   ]
  },
  {
   "cell_type": "code",
   "execution_count": 10,
   "id": "e85a394e-5482-4310-a48c-42492a7c3963",
   "metadata": {},
   "outputs": [
    {
     "name": "stdout",
     "output_type": "stream",
     "text": [
      "Medical in-Person\n"
     ]
    },
    {
     "data": {
      "text/html": [
       "<div>\n",
       "<style scoped>\n",
       "    .dataframe tbody tr th:only-of-type {\n",
       "        vertical-align: middle;\n",
       "    }\n",
       "\n",
       "    .dataframe tbody tr th {\n",
       "        vertical-align: top;\n",
       "    }\n",
       "\n",
       "    .dataframe thead th {\n",
       "        text-align: right;\n",
       "    }\n",
       "</style>\n",
       "<table border=\"1\" class=\"dataframe\">\n",
       "  <thead>\n",
       "    <tr style=\"text-align: right;\">\n",
       "      <th></th>\n",
       "      <th>rank</th>\n",
       "      <th>elpd_loo</th>\n",
       "      <th>p_loo</th>\n",
       "      <th>elpd_diff</th>\n",
       "      <th>weight</th>\n",
       "      <th>se</th>\n",
       "      <th>dse</th>\n",
       "      <th>warning</th>\n",
       "      <th>scale</th>\n",
       "    </tr>\n",
       "  </thead>\n",
       "  <tbody>\n",
       "    <tr>\n",
       "      <th>Estimate Value Ordinal</th>\n",
       "      <td>0</td>\n",
       "      <td>-1411.570398</td>\n",
       "      <td>210.598234</td>\n",
       "      <td>0.000000</td>\n",
       "      <td>0.747705</td>\n",
       "      <td>45.084521</td>\n",
       "      <td>0.000000</td>\n",
       "      <td>True</td>\n",
       "      <td>log</td>\n",
       "    </tr>\n",
       "    <tr>\n",
       "      <th>Estimate Value</th>\n",
       "      <td>1</td>\n",
       "      <td>-1416.034498</td>\n",
       "      <td>226.218527</td>\n",
       "      <td>4.464100</td>\n",
       "      <td>0.252295</td>\n",
       "      <td>44.728629</td>\n",
       "      <td>4.348711</td>\n",
       "      <td>True</td>\n",
       "      <td>log</td>\n",
       "    </tr>\n",
       "    <tr>\n",
       "      <th>Estimate Value Categorical</th>\n",
       "      <td>2</td>\n",
       "      <td>-1439.435711</td>\n",
       "      <td>186.008677</td>\n",
       "      <td>27.865312</td>\n",
       "      <td>0.000000</td>\n",
       "      <td>43.691882</td>\n",
       "      <td>7.337146</td>\n",
       "      <td>True</td>\n",
       "      <td>log</td>\n",
       "    </tr>\n",
       "  </tbody>\n",
       "</table>\n",
       "</div>"
      ],
      "text/plain": [
       "                            rank     elpd_loo       p_loo  elpd_diff  \\\n",
       "Estimate Value Ordinal         0 -1411.570398  210.598234   0.000000   \n",
       "Estimate Value                 1 -1416.034498  226.218527   4.464100   \n",
       "Estimate Value Categorical     2 -1439.435711  186.008677  27.865312   \n",
       "\n",
       "                              weight         se       dse  warning scale  \n",
       "Estimate Value Ordinal      0.747705  45.084521  0.000000     True   log  \n",
       "Estimate Value              0.252295  44.728629  4.348711     True   log  \n",
       "Estimate Value Categorical  0.000000  43.691882  7.337146     True   log  "
      ]
     },
     "execution_count": 10,
     "metadata": {},
     "output_type": "execute_result"
    }
   ],
   "source": [
    "print('Medical in-Person')\n",
    "compare_dict = {'Estimate Value':  med_estimated,\n",
    "                'Estimate Value Ordinal': med_estimated_ord,\n",
    "                'Estimate Value Categorical': med_estimated_cat,\n",
    "\n",
    "}\n",
    "\n",
    "comp = az.compare(compare_dict)\n",
    "comp"
   ]
  },
  {
   "cell_type": "code",
   "execution_count": 11,
   "id": "e4192a9b-afd3-4025-ac20-915d9cc3c310",
   "metadata": {},
   "outputs": [
    {
     "name": "stdout",
     "output_type": "stream",
     "text": [
      "Monetary on-line\n"
     ]
    },
    {
     "data": {
      "text/html": [
       "<div>\n",
       "<style scoped>\n",
       "    .dataframe tbody tr th:only-of-type {\n",
       "        vertical-align: middle;\n",
       "    }\n",
       "\n",
       "    .dataframe tbody tr th {\n",
       "        vertical-align: top;\n",
       "    }\n",
       "\n",
       "    .dataframe thead th {\n",
       "        text-align: right;\n",
       "    }\n",
       "</style>\n",
       "<table border=\"1\" class=\"dataframe\">\n",
       "  <thead>\n",
       "    <tr style=\"text-align: right;\">\n",
       "      <th></th>\n",
       "      <th>rank</th>\n",
       "      <th>elpd_loo</th>\n",
       "      <th>p_loo</th>\n",
       "      <th>elpd_diff</th>\n",
       "      <th>weight</th>\n",
       "      <th>se</th>\n",
       "      <th>dse</th>\n",
       "      <th>warning</th>\n",
       "      <th>scale</th>\n",
       "    </tr>\n",
       "  </thead>\n",
       "  <tbody>\n",
       "    <tr>\n",
       "      <th>Estimate Value Ordinal</th>\n",
       "      <td>0</td>\n",
       "      <td>-3790.653944</td>\n",
       "      <td>825.452374</td>\n",
       "      <td>0.000000</td>\n",
       "      <td>9.620189e-01</td>\n",
       "      <td>69.228866</td>\n",
       "      <td>0.000000</td>\n",
       "      <td>True</td>\n",
       "      <td>log</td>\n",
       "    </tr>\n",
       "    <tr>\n",
       "      <th>Estimate Value</th>\n",
       "      <td>1</td>\n",
       "      <td>-3818.563337</td>\n",
       "      <td>898.683684</td>\n",
       "      <td>27.909393</td>\n",
       "      <td>3.798114e-02</td>\n",
       "      <td>69.191796</td>\n",
       "      <td>7.713219</td>\n",
       "      <td>True</td>\n",
       "      <td>log</td>\n",
       "    </tr>\n",
       "    <tr>\n",
       "      <th>Estimate Value Categorical</th>\n",
       "      <td>2</td>\n",
       "      <td>-3950.989664</td>\n",
       "      <td>777.152465</td>\n",
       "      <td>160.335721</td>\n",
       "      <td>1.818301e-11</td>\n",
       "      <td>68.444847</td>\n",
       "      <td>12.877123</td>\n",
       "      <td>True</td>\n",
       "      <td>log</td>\n",
       "    </tr>\n",
       "  </tbody>\n",
       "</table>\n",
       "</div>"
      ],
      "text/plain": [
       "                            rank     elpd_loo       p_loo   elpd_diff  \\\n",
       "Estimate Value Ordinal         0 -3790.653944  825.452374    0.000000   \n",
       "Estimate Value                 1 -3818.563337  898.683684   27.909393   \n",
       "Estimate Value Categorical     2 -3950.989664  777.152465  160.335721   \n",
       "\n",
       "                                  weight         se        dse  warning scale  \n",
       "Estimate Value Ordinal      9.620189e-01  69.228866   0.000000     True   log  \n",
       "Estimate Value              3.798114e-02  69.191796   7.713219     True   log  \n",
       "Estimate Value Categorical  1.818301e-11  68.444847  12.877123     True   log  "
      ]
     },
     "execution_count": 11,
     "metadata": {},
     "output_type": "execute_result"
    }
   ],
   "source": [
    "print('Monetary on-line')\n",
    "compare_dict = {'Estimate Value':  mon_estimated_online,\n",
    "                'Estimate Value Ordinal': mon_estimated_online_ord,\n",
    "                'Estimate Value Categorical': mon_estimated_online_cat\n",
    "\n",
    "}\n",
    "\n",
    "comp = az.compare(compare_dict)\n",
    "comp"
   ]
  },
  {
   "cell_type": "code",
   "execution_count": 12,
   "id": "6a39c538-6538-41ca-af1d-f8135526fa41",
   "metadata": {},
   "outputs": [
    {
     "name": "stdout",
     "output_type": "stream",
     "text": [
      "Medical On-Line\n"
     ]
    },
    {
     "data": {
      "text/html": [
       "<div>\n",
       "<style scoped>\n",
       "    .dataframe tbody tr th:only-of-type {\n",
       "        vertical-align: middle;\n",
       "    }\n",
       "\n",
       "    .dataframe tbody tr th {\n",
       "        vertical-align: top;\n",
       "    }\n",
       "\n",
       "    .dataframe thead th {\n",
       "        text-align: right;\n",
       "    }\n",
       "</style>\n",
       "<table border=\"1\" class=\"dataframe\">\n",
       "  <thead>\n",
       "    <tr style=\"text-align: right;\">\n",
       "      <th></th>\n",
       "      <th>rank</th>\n",
       "      <th>elpd_loo</th>\n",
       "      <th>p_loo</th>\n",
       "      <th>elpd_diff</th>\n",
       "      <th>weight</th>\n",
       "      <th>se</th>\n",
       "      <th>dse</th>\n",
       "      <th>warning</th>\n",
       "      <th>scale</th>\n",
       "    </tr>\n",
       "  </thead>\n",
       "  <tbody>\n",
       "    <tr>\n",
       "      <th>Estimate Value Ordinal</th>\n",
       "      <td>0</td>\n",
       "      <td>-4103.178349</td>\n",
       "      <td>788.565283</td>\n",
       "      <td>0.000000</td>\n",
       "      <td>0.519858</td>\n",
       "      <td>72.849218</td>\n",
       "      <td>0.000000</td>\n",
       "      <td>True</td>\n",
       "      <td>log</td>\n",
       "    </tr>\n",
       "    <tr>\n",
       "      <th>Estimate Value</th>\n",
       "      <td>1</td>\n",
       "      <td>-4104.288061</td>\n",
       "      <td>868.755364</td>\n",
       "      <td>1.109712</td>\n",
       "      <td>0.480142</td>\n",
       "      <td>72.302638</td>\n",
       "      <td>10.146263</td>\n",
       "      <td>True</td>\n",
       "      <td>log</td>\n",
       "    </tr>\n",
       "    <tr>\n",
       "      <th>Estimate Value Categorical</th>\n",
       "      <td>2</td>\n",
       "      <td>-4302.661895</td>\n",
       "      <td>722.038121</td>\n",
       "      <td>199.483546</td>\n",
       "      <td>0.000000</td>\n",
       "      <td>68.868380</td>\n",
       "      <td>17.184448</td>\n",
       "      <td>True</td>\n",
       "      <td>log</td>\n",
       "    </tr>\n",
       "  </tbody>\n",
       "</table>\n",
       "</div>"
      ],
      "text/plain": [
       "                            rank     elpd_loo       p_loo   elpd_diff  \\\n",
       "Estimate Value Ordinal         0 -4103.178349  788.565283    0.000000   \n",
       "Estimate Value                 1 -4104.288061  868.755364    1.109712   \n",
       "Estimate Value Categorical     2 -4302.661895  722.038121  199.483546   \n",
       "\n",
       "                              weight         se        dse  warning scale  \n",
       "Estimate Value Ordinal      0.519858  72.849218   0.000000     True   log  \n",
       "Estimate Value              0.480142  72.302638  10.146263     True   log  \n",
       "Estimate Value Categorical  0.000000  68.868380  17.184448     True   log  "
      ]
     },
     "execution_count": 12,
     "metadata": {},
     "output_type": "execute_result"
    }
   ],
   "source": [
    "print('Medical On-Line')\n",
    "compare_dict = {'Estimate Value':  med_estimated_online,\n",
    "                'Estimate Value Ordinal': med_estimated_online_ord,\n",
    "                'Estimate Value Categorical': med_estimated_online_cat\n",
    "\n",
    "\n",
    "}\n",
    "\n",
    "comp = az.compare(compare_dict)\n",
    "comp"
   ]
  },
  {
   "cell_type": "markdown",
   "id": "31e1a092",
   "metadata": {},
   "source": [
    "The ordinal model fits the data best in the two tasks for both in-person and online datasets.</br>\n",
    "Compared to the semi-categorical model, the model elpd_loo doesn't show a big difference, however, due to the lower complexity, it is the better model. \n",
    "\n",
    "## Extract Estimated Values\n",
    "\n",
    "### Ordinal model"
   ]
  },
  {
   "cell_type": "code",
   "execution_count": 13,
   "id": "cc1dfdf0-f333-4456-9159-b7f19b36a2d5",
   "metadata": {},
   "outputs": [
    {
     "name": "stdout",
     "output_type": "stream",
     "text": [
      "In-person: \n",
      "level 1 (med): mean: 6.92 SD:  1.64\n",
      "level 2 (med): mean: 8.97 SD:  2.35\n",
      "level 3 (med): mean: 7.01 SD:  2.93\n",
      "level 4 (med): mean: 4.22 SD:  3.09\n",
      "\n",
      "level 1 (mon): mean: 7.2 SD:  1.56\n",
      "level 2 (mon): mean: 4.13 SD:  1.66\n",
      "level 3 (mon): mean: 6.21 SD:  2.32\n",
      "level 4 (mon): mean: 8.75 SD:  3.35\n"
     ]
    }
   ],
   "source": [
    "print(\"In-person: \")\n",
    "\n",
    "print(\"level 1 (med): mean:\", round(az.summary(med_estimated_ord, var_names=['level1'])['mean'].mean(),2), \"SD: \", round(az.summary(med_estimated, var_names=['level1'])['sd'].mean(),2))\n",
    "print(\"level 2 (med): mean:\", round(az.summary(med_estimated_ord, var_names=['level2'])['mean'].mean(),2), \"SD: \", round(az.summary(med_estimated, var_names=['level2'])['sd'].mean(),2))\n",
    "print(\"level 3 (med): mean:\", round(az.summary(med_estimated_ord, var_names=['level3'])['mean'].mean(),2), \"SD: \", round(az.summary(med_estimated, var_names=['level3'])['sd'].mean(),2))\n",
    "print(\"level 4 (med): mean:\", round(az.summary(med_estimated_ord, var_names=['level4'])['mean'].mean(),2), \"SD: \", round(az.summary(med_estimated, var_names=['level4'])['sd'].mean(),2))\n",
    "print()\n",
    "print(\"level 1 (mon): mean:\", round(az.summary(mon_estimated_ord, var_names=['level1'])['mean'].mean(),2), \"SD: \", round(az.summary(mon_estimated, var_names=['level1'])['sd'].mean(),2))\n",
    "print(\"level 2 (mon): mean:\", round(az.summary(mon_estimated_ord, var_names=['level2'])['mean'].mean(),2), \"SD: \", round(az.summary(mon_estimated, var_names=['level2'])['sd'].mean(),2))\n",
    "print(\"level 3 (mon): mean:\", round(az.summary(mon_estimated_ord, var_names=['level3'])['mean'].mean(),2), \"SD: \", round(az.summary(mon_estimated, var_names=['level3'])['sd'].mean(),2))\n",
    "print(\"level 4 (mon): mean:\", round(az.summary(mon_estimated_ord, var_names=['level4'])['mean'].mean(),2), \"SD: \", round(az.summary(mon_estimated, var_names=['level4'])['sd'].mean(),2))"
   ]
  },
  {
   "cell_type": "code",
   "execution_count": 14,
   "id": "e75b519e-0ea6-4b12-8790-6747b3192ee3",
   "metadata": {},
   "outputs": [
    {
     "name": "stdout",
     "output_type": "stream",
     "text": [
      "Online: \n",
      "level 1 (med): mean: 8.62 SD:  2.3\n",
      "level 2 (med): mean: 12.63 SD:  3.62\n",
      "level 3 (med): mean: 4.66 SD:  2.91\n",
      "level 4 (med): mean: 2.37 SD:  2.44\n",
      "\n",
      "level 1 (mon): mean: 10.94 SD:  2.69\n",
      "level 2 (mon): mean: 4.14 SD:  2.05\n",
      "level 3 (mon): mean: 5.04 SD:  2.38\n",
      "level 4 (mon): mean: 3.94 SD:  2.57\n"
     ]
    }
   ],
   "source": [
    "print(\"Online: \")\n",
    "\n",
    "print(\"level 1 (med): mean:\", round(az.summary(med_estimated_online_ord, var_names=['level1'])['mean'].mean(),2), \"SD: \", round(az.summary(med_estimated_online, var_names=['level1'])['sd'].mean(),2))\n",
    "print(\"level 2 (med): mean:\", round(az.summary(med_estimated_online_ord, var_names=['level2'])['mean'].mean(),2), \"SD: \", round(az.summary(med_estimated_online, var_names=['level2'])['sd'].mean(),2))\n",
    "print(\"level 3 (med): mean:\", round(az.summary(med_estimated_online_ord, var_names=['level3'])['mean'].mean(),2), \"SD: \", round(az.summary(med_estimated_online, var_names=['level3'])['sd'].mean(),2))\n",
    "print(\"level 4 (med): mean:\", round(az.summary(med_estimated_online_ord, var_names=['level4'])['mean'].mean(),2), \"SD: \", round(az.summary(med_estimated_online, var_names=['level4'])['sd'].mean(),2))\n",
    "print()\n",
    "print(\"level 1 (mon): mean:\", round(az.summary(mon_estimated_online_ord, var_names=['level1'])['mean'].mean(),2), \"SD: \", round(az.summary(mon_estimated_online, var_names=['level1'])['sd'].mean(),2))\n",
    "print(\"level 2 (mon): mean:\", round(az.summary(mon_estimated_online_ord, var_names=['level2'])['mean'].mean(),2), \"SD: \", round(az.summary(mon_estimated_online, var_names=['level2'])['sd'].mean(),2))\n",
    "print(\"level 3 (mon): mean:\", round(az.summary(mon_estimated_online_ord, var_names=['level3'])['mean'].mean(),2), \"SD: \", round(az.summary(mon_estimated_online, var_names=['level3'])['sd'].mean(),2))\n",
    "print(\"level 4 (mon): mean:\", round(az.summary(mon_estimated_online_ord, var_names=['level4'])['mean'].mean(),2), \"SD: \", round(az.summary(mon_estimated_online, var_names=['level4'])['sd'].mean(),2))"
   ]
  },
  {
   "cell_type": "markdown",
   "id": "8adf7557-25d1-4442-88d1-a1c50c5a0958",
   "metadata": {},
   "source": [
    "### Semi-Categorical"
   ]
  },
  {
   "cell_type": "code",
   "execution_count": 15,
   "id": "e95b2cf7-0545-4d61-acb9-12cddca866c6",
   "metadata": {},
   "outputs": [
    {
     "name": "stdout",
     "output_type": "stream",
     "text": [
      "In-person: \n",
      "level 1 (med): mean: 6.83 SD:  1.64\n",
      "level 2 (med): mean: 8.86 SD:  2.35\n",
      "level 3 (med): mean: 6.93 SD:  2.93\n",
      "level 4 (med): mean: 3.88 SD:  3.09\n",
      "\n",
      "level 1 (mon): mean: 7.0 SD:  1.56\n",
      "level 2 (mon): mean: 3.89 SD:  1.66\n",
      "level 3 (mon): mean: 6.11 SD:  2.32\n",
      "level 4 (mon): mean: 8.24 SD:  3.35\n"
     ]
    }
   ],
   "source": [
    "print(\"In-person: \")\n",
    "\n",
    "print(\"level 1 (med): mean:\", round(az.summary(med_estimated, var_names=['level1'])['mean'].mean(),2), \"SD: \", round(az.summary(med_estimated, var_names=['level1'])['sd'].mean(),2))\n",
    "print(\"level 2 (med): mean:\", round(az.summary(med_estimated, var_names=['level2'])['mean'].mean(),2), \"SD: \", round(az.summary(med_estimated, var_names=['level2'])['sd'].mean(),2))\n",
    "print(\"level 3 (med): mean:\", round(az.summary(med_estimated, var_names=['level3'])['mean'].mean(),2), \"SD: \", round(az.summary(med_estimated, var_names=['level3'])['sd'].mean(),2))\n",
    "print(\"level 4 (med): mean:\", round(az.summary(med_estimated, var_names=['level4'])['mean'].mean(),2), \"SD: \", round(az.summary(med_estimated, var_names=['level4'])['sd'].mean(),2))\n",
    "print()\n",
    "print(\"level 1 (mon): mean:\", round(az.summary(mon_estimated, var_names=['level1'])['mean'].mean(),2), \"SD: \", round(az.summary(mon_estimated, var_names=['level1'])['sd'].mean(),2))\n",
    "print(\"level 2 (mon): mean:\", round(az.summary(mon_estimated, var_names=['level2'])['mean'].mean(),2), \"SD: \", round(az.summary(mon_estimated, var_names=['level2'])['sd'].mean(),2))\n",
    "print(\"level 3 (mon): mean:\", round(az.summary(mon_estimated, var_names=['level3'])['mean'].mean(),2), \"SD: \", round(az.summary(mon_estimated, var_names=['level3'])['sd'].mean(),2))\n",
    "print(\"level 4 (mon): mean:\", round(az.summary(mon_estimated, var_names=['level4'])['mean'].mean(),2), \"SD: \", round(az.summary(mon_estimated, var_names=['level4'])['sd'].mean(),2))"
   ]
  },
  {
   "cell_type": "code",
   "execution_count": 16,
   "id": "5d09e4a0-4f03-4257-a380-e07c36258dda",
   "metadata": {},
   "outputs": [
    {
     "name": "stdout",
     "output_type": "stream",
     "text": [
      "Online: \n",
      "level 1 (med): mean: 8.49 SD:  2.3\n",
      "level 2 (med): mean: 11.94 SD:  3.62\n",
      "level 3 (med): mean: 4.5 SD:  2.91\n",
      "level 4 (med): mean: 2.35 SD:  2.44\n",
      "\n",
      "level 1 (mon): mean: 10.94 SD:  2.69\n",
      "level 2 (mon): mean: 3.93 SD:  2.05\n",
      "level 3 (mon): mean: 5.3 SD:  2.38\n",
      "level 4 (mon): mean: 3.58 SD:  2.57\n"
     ]
    }
   ],
   "source": [
    "print(\"Online: \")\n",
    "\n",
    "print(\"level 1 (med): mean:\", round(az.summary(med_estimated_online, var_names=['level1'])['mean'].mean(),2), \"SD: \", round(az.summary(med_estimated_online, var_names=['level1'])['sd'].mean(),2))\n",
    "print(\"level 2 (med): mean:\", round(az.summary(med_estimated_online, var_names=['level2'])['mean'].mean(),2), \"SD: \", round(az.summary(med_estimated_online, var_names=['level2'])['sd'].mean(),2))\n",
    "print(\"level 3 (med): mean:\", round(az.summary(med_estimated_online, var_names=['level3'])['mean'].mean(),2), \"SD: \", round(az.summary(med_estimated_online, var_names=['level3'])['sd'].mean(),2))\n",
    "print(\"level 4 (med): mean:\", round(az.summary(med_estimated_online, var_names=['level4'])['mean'].mean(),2), \"SD: \", round(az.summary(med_estimated_online, var_names=['level4'])['sd'].mean(),2))\n",
    "print()\n",
    "print(\"level 1 (mon): mean:\", round(az.summary(mon_estimated_online, var_names=['level1'])['mean'].mean(),2), \"SD: \", round(az.summary(mon_estimated_online, var_names=['level1'])['sd'].mean(),2))\n",
    "print(\"level 2 (mon): mean:\", round(az.summary(mon_estimated_online, var_names=['level2'])['mean'].mean(),2), \"SD: \", round(az.summary(mon_estimated_online, var_names=['level2'])['sd'].mean(),2))\n",
    "print(\"level 3 (mon): mean:\", round(az.summary(mon_estimated_online, var_names=['level3'])['mean'].mean(),2), \"SD: \", round(az.summary(mon_estimated_online, var_names=['level3'])['sd'].mean(),2))\n",
    "print(\"level 4 (mon): mean:\", round(az.summary(mon_estimated_online, var_names=['level4'])['mean'].mean(),2), \"SD: \", round(az.summary(mon_estimated_online, var_names=['level4'])['sd'].mean(),2))"
   ]
  },
  {
   "cell_type": "markdown",
   "id": "52f49711-34b3-46f6-a036-b409662137bb",
   "metadata": {},
   "source": [
    "### Full categorical\n",
    "This is the value of the category not added value"
   ]
  },
  {
   "cell_type": "code",
   "execution_count": 17,
   "id": "62d6890b-b84b-4086-89b6-e5899bb3258c",
   "metadata": {},
   "outputs": [
    {
     "name": "stdout",
     "output_type": "stream",
     "text": [
      "In-person: \n",
      "level 1 (med): mean: 5.88 SD:  0.69\n",
      "level 2 (med): mean: 13.45 SD:  1.51\n",
      "level 3 (med): mean: 19.11 SD:  1.76\n",
      "level 4 (med): mean: 21.95 SD:  1.88\n",
      "\n",
      "level 1 (mon): mean: 6.38 SD:  0.71\n",
      "level 2 (mon): mean: 9.76 SD:  1.38\n",
      "level 3 (mon): mean: 15.04 SD:  1.58\n",
      "level 4 (mon): mean: 21.72 SD:  1.89\n"
     ]
    }
   ],
   "source": [
    "print(\"In-person: \")\n",
    "\n",
    "print(\"level 1 (med): mean:\", round(az.summary(med_estimated_cat, var_names=['level1'])['mean'].mean(),2), \"SD: \", round(az.summary(med_estimated_cat, var_names=['level1'])['sd'].mean(),2))\n",
    "print(\"level 2 (med): mean:\", round(az.summary(med_estimated_cat, var_names=['level2'])['mean'].mean(),2), \"SD: \", round(az.summary(med_estimated_cat, var_names=['level2'])['sd'].mean(),2))\n",
    "print(\"level 3 (med): mean:\", round(az.summary(med_estimated_cat, var_names=['level3'])['mean'].mean(),2), \"SD: \", round(az.summary(med_estimated_cat, var_names=['level3'])['sd'].mean(),2))\n",
    "print(\"level 4 (med): mean:\", round(az.summary(med_estimated_cat, var_names=['level4'])['mean'].mean(),2), \"SD: \", round(az.summary(med_estimated_cat, var_names=['level4'])['sd'].mean(),2))\n",
    "print()\n",
    "print(\"level 1 (mon): mean:\", round(az.summary(mon_estimated_cat, var_names=['level1'])['mean'].mean(),2), \"SD: \", round(az.summary(mon_estimated_cat, var_names=['level1'])['sd'].mean(),2))\n",
    "print(\"level 2 (mon): mean:\", round(az.summary(mon_estimated_cat, var_names=['level2'])['mean'].mean(),2), \"SD: \", round(az.summary(mon_estimated_cat, var_names=['level2'])['sd'].mean(),2))\n",
    "print(\"level 3 (mon): mean:\", round(az.summary(mon_estimated_cat, var_names=['level3'])['mean'].mean(),2), \"SD: \", round(az.summary(mon_estimated_cat, var_names=['level3'])['sd'].mean(),2))\n",
    "print(\"level 4 (mon): mean:\", round(az.summary(mon_estimated_cat, var_names=['level4'])['mean'].mean(),2), \"SD: \", round(az.summary(mon_estimated_cat, var_names=['level4'])['sd'].mean(),2))"
   ]
  },
  {
   "cell_type": "code",
   "execution_count": 18,
   "id": "51bc52b3-0eee-41cd-9b9f-cbde7879a699",
   "metadata": {},
   "outputs": [
    {
     "name": "stdout",
     "output_type": "stream",
     "text": [
      "Online: \n",
      "level 1 (med): mean: 6.6 SD:  0.81\n",
      "level 2 (med): mean: 15.16 SD:  1.65\n",
      "level 3 (med): mean: 18.37 SD:  1.73\n",
      "level 4 (med): mean: 20.07 SD:  1.78\n",
      "\n",
      "level 1 (mon): mean: 9.02 SD:  0.91\n",
      "level 2 (mon): mean: 12.03 SD:  1.61\n",
      "level 3 (mon): mean: 16.65 SD:  1.65\n",
      "level 4 (mon): mean: 19.51 SD:  1.73\n"
     ]
    }
   ],
   "source": [
    "print(\"Online: \")\n",
    "\n",
    "print(\"level 1 (med): mean:\", round(az.summary(med_estimated_online_cat, var_names=['level1'])['mean'].mean(),2), \"SD: \", round(az.summary(med_estimated_online_cat, var_names=['level1'])['sd'].mean(),2))\n",
    "print(\"level 2 (med): mean:\", round(az.summary(med_estimated_online_cat, var_names=['level2'])['mean'].mean(),2), \"SD: \", round(az.summary(med_estimated_online_cat, var_names=['level2'])['sd'].mean(),2))\n",
    "print(\"level 3 (med): mean:\", round(az.summary(med_estimated_online_cat, var_names=['level3'])['mean'].mean(),2), \"SD: \", round(az.summary(med_estimated_online_cat, var_names=['level3'])['sd'].mean(),2))\n",
    "print(\"level 4 (med): mean:\", round(az.summary(med_estimated_online_cat, var_names=['level4'])['mean'].mean(),2), \"SD: \", round(az.summary(med_estimated_online_cat, var_names=['level4'])['sd'].mean(),2))\n",
    "print()\n",
    "print(\"level 1 (mon): mean:\", round(az.summary(mon_estimated_online_cat, var_names=['level1'])['mean'].mean(),2), \"SD: \", round(az.summary(mon_estimated_online_cat, var_names=['level1'])['sd'].mean(),2))\n",
    "print(\"level 2 (mon): mean:\", round(az.summary(mon_estimated_online_cat, var_names=['level2'])['mean'].mean(),2), \"SD: \", round(az.summary(mon_estimated_online_cat, var_names=['level2'])['sd'].mean(),2))\n",
    "print(\"level 3 (mon): mean:\", round(az.summary(mon_estimated_online_cat, var_names=['level3'])['mean'].mean(),2), \"SD: \", round(az.summary(mon_estimated_online_cat, var_names=['level3'])['sd'].mean(),2))\n",
    "print(\"level 4 (mon): mean:\", round(az.summary(mon_estimated_online_cat, var_names=['level4'])['mean'].mean(),2), \"SD: \", round(az.summary(mon_estimated_online_cat, var_names=['level4'])['sd'].mean(),2))"
   ]
  },
  {
   "cell_type": "code",
   "execution_count": 19,
   "id": "5b6caf17",
   "metadata": {},
   "outputs": [
    {
     "name": "stdout",
     "output_type": "stream",
     "text": [
      "Last updated: Fri Oct 25 2024\n",
      "\n",
      "Python implementation: CPython\n",
      "Python version       : 3.10.14\n",
      "IPython version      : 8.26.0\n",
      "\n",
      "xarray: 2024.7.0\n",
      "\n",
      "arviz     : 0.17.1\n",
      "pymc      : 4.1.7\n",
      "logging   : 0.5.1.2\n",
      "seaborn   : 0.12.2\n",
      "numpy     : 1.23.5\n",
      "matplotlib: 3.6.3\n",
      "pandas    : 1.5.3\n",
      "\n",
      "Watermark: 2.4.3\n",
      "\n"
     ]
    }
   ],
   "source": [
    "%load_ext watermark\n",
    "%watermark -n -u -v -iv -w -p xarray"
   ]
  },
  {
   "cell_type": "code",
   "execution_count": null,
   "id": "b895c776-04ad-4eaa-9c50-71c6af4a7702",
   "metadata": {},
   "outputs": [],
   "source": []
  }
 ],
 "metadata": {
  "kernelspec": {
   "display_name": "Python 3 (ipykernel)",
   "language": "python",
   "name": "python3"
  },
  "language_info": {
   "codemirror_mode": {
    "name": "ipython",
    "version": 3
   },
   "file_extension": ".py",
   "mimetype": "text/x-python",
   "name": "python",
   "nbconvert_exporter": "python",
   "pygments_lexer": "ipython3",
   "version": "3.10.14"
  }
 },
 "nbformat": 4,
 "nbformat_minor": 5
}
