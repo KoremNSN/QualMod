{
 "cells": [
  {
   "cell_type": "markdown",
   "id": "ac553b50",
   "metadata": {},
   "source": [
    "# Export Risk and Ambiguity Data\n",
    "\n",
    "This script outputs risk and ambiguity data from MAT files created by the aging scripts. The data is extracted, processed, and saved into CSV files for further analysis. The process is divided into two main sections: handling the monetary task data and handling the medical task data.\n",
    "\n",
    "---\n",
    "\n",
    "## Load Required Libraries\n",
    "\n",
    "First, we load the necessary libraries for data manipulation and file handling."
   ]
  },
  {
   "cell_type": "code",
   "execution_count": 1,
   "id": "a25d8c23",
   "metadata": {},
   "outputs": [],
   "source": [
    "import pandas as pd\n",
    "import numpy as np\n",
    "import scipy.io as sio\n",
    "from glob import glob\n",
    "\n",
    "# Suppressing warnings for cleaner output\n",
    "import warnings\n",
    "warnings.filterwarnings('ignore')"
   ]
  },
  {
   "cell_type": "markdown",
   "id": "f398b286",
   "metadata": {},
   "source": [
    "## Define File Path and Initialize DataFrames\n",
    "\n",
    "We define the file path pattern for the monetary task MAT files and initialize empty DataFrames to store the extracted data and any missing data."
   ]
  },
  {
   "cell_type": "code",
   "execution_count": 2,
   "id": "897502c7",
   "metadata": {},
   "outputs": [],
   "source": [
    "glober = '/media/Data/Lab_Projects/Aging/behavioral/Risk_and_Ambiguity_new/AG_*_RA/MDM_MON_*.mat'\n",
    "df = pd.DataFrame()\n",
    "df_missing = pd.DataFrame()"
   ]
  },
  {
   "cell_type": "markdown",
   "id": "09a7b84b",
   "metadata": {},
   "source": [
    "## Extract and Process Monetary Task Data\n",
    "\n",
    "We iterate over each MAT file matching the specified pattern, load the data, and extract the relevant information: values, risk, ambiguity, and choice. The extracted data is then organized into DataFrames."
   ]
  },
  {
   "cell_type": "code",
   "execution_count": 3,
   "id": "4f30e9f6",
   "metadata": {},
   "outputs": [
    {
     "name": "stdout",
     "output_type": "stream",
     "text": [
      "12 10\n",
      "17 11\n",
      "27 11\n",
      "29 6\n",
      "99 6.0\n",
      "111 8\n"
     ]
    }
   ],
   "source": [
    "for mat_fname in glob(glober):\n",
    "    # Load the MAT file\n",
    "    mat = sio.loadmat(mat_fname)\n",
    "    # Extract the subject number from the file name\n",
    "    sub = mat_fname.split('_')[5]\n",
    "\n",
    "    # Extract values, risk, and ambiguity data from the MAT file\n",
    "    vals = pd.DataFrame(mat['Datamon'][0][0][8], columns=['value'])\n",
    "    risk = pd.DataFrame(mat['Datamon'][0][0][9], columns=['risk'])\n",
    "    ambiguity = pd.DataFrame(mat['Datamon'][0][0][10], columns=['ambiguity'])\n",
    "\n",
    "    # Initialize lists to store choice and value data for each block\n",
    "    choice = []\n",
    "    value = []\n",
    "    # Iterate over each block and each trial within the block\n",
    "    for j in range(4):\n",
    "        for i in range(21):\n",
    "            # Append the choice data\n",
    "            choice.append(mat['Datamon'][0][0][17][j][i][0][0])\n",
    "            # Append the value data, ensuring correct values are used\n",
    "            if mat['Datamon'][0][0][17][j][i][2][0] == '$0':\n",
    "                value.append(mat['Datamon'][0][0][17][j][i][3][0])\n",
    "            else:\n",
    "                value.append(mat['Datamon'][0][0][17][j][i][2][0])\n",
    "\n",
    "    # Create a DataFrame for the current subject's data\n",
    "    db = pd.DataFrame(list(zip(choice, value)), columns=['choice', 'value'])\n",
    "\n",
    "    # Add values, risk, ambiguity, and subject number to the DataFrame\n",
    "    db['value'] = vals\n",
    "    db['risk'] = risk\n",
    "    db['ambiguity'] = ambiguity\n",
    "    db['sub'] = sub\n",
    "\n",
    "    # Replace textual choices with numerical codes\n",
    "    db['choice'] = db.choice.replace(['Reference'], 0)\n",
    "    db['choice'] = db.choice.replace(['Lottery'], 1)\n",
    "    db['choice'] = db.choice.replace(['None'], np.nan)\n",
    "\n",
    "    # Add reaction time data to the DataFrame\n",
    "    db['rt'] = pd.DataFrame(mat['Datamon']['rt'][0][0][0], columns=['RT'])\n",
    "\n",
    "    # Check for catch trials (where the choice is between $5 for sure and a chance for $5) \n",
    "    # Print the subject number if they chose the lottery on more than 5 (out of 10) occasions. \n",
    "    catch = np.nansum(db.choice[db.value == 5])\n",
    "    if catch > 5:\n",
    "        print(sub, catch)\n",
    "    db['catch'] = catch\n",
    "\n",
    "    # Concatenate the current subject's data to the main DataFrame\n",
    "    df = pd.concat([df, db])"
   ]
  },
  {
   "cell_type": "markdown",
   "id": "04b60563-d7fa-44a2-979c-8c04cfec0d80",
   "metadata": {},
   "source": [
    "Six participants failed the catch trials.\n",
    "\n",
    "## Save Extracted Monetary Data to CSV\n",
    "\n",
    "We save the concatenated data from all subjects into a CSV file."
   ]
  },
  {
   "cell_type": "code",
   "execution_count": 4,
   "id": "58a25c6d",
   "metadata": {},
   "outputs": [],
   "source": [
    "df.to_csv('data/mon.csv')"
   ]
  },
  {
   "cell_type": "markdown",
   "id": "4134398f",
   "metadata": {},
   "source": [
    "## Define File Path and Initialize DataFrames for Medical Task\n",
    "\n",
    "Similarly, we define the file path pattern for the medical task MAT files and re-initialize empty DataFrames for storing the data."
   ]
  },
  {
   "cell_type": "code",
   "execution_count": 5,
   "id": "92826609",
   "metadata": {},
   "outputs": [],
   "source": [
    "glober = '/media/Data/Lab_Projects/Aging/behavioral/Risk_and_Ambiguity_new/AG_*_RA/MDM_MED_*.mat'\n",
    "df = pd.DataFrame()\n",
    "df_missing = pd.DataFrame()"
   ]
  },
  {
   "cell_type": "markdown",
   "id": "32ddddf4-363d-4002-852a-117be26ccc73",
   "metadata": {},
   "source": [
    "## Extract and Process Medical Task Data\n",
    "\n",
    "We iterate over each MAT file matching the pattern for the medical task, load the data, and extract relevant information such as values, risk, and ambiguity. The extracted data is organized into DataFrames."
   ]
  },
  {
   "cell_type": "code",
   "execution_count": 6,
   "id": "14f2599a",
   "metadata": {},
   "outputs": [
    {
     "name": "stdout",
     "output_type": "stream",
     "text": [
      "22 8.0\n",
      "12 12\n",
      "17 6\n",
      "failed choice 28\n",
      "60 6\n",
      "88 6.0\n",
      "112 7\n",
      "111 9\n"
     ]
    }
   ],
   "source": [
    "for mat_fname in glob(glober):\n",
    "\n",
    "    # Load the MAT file\n",
    "    mat = sio.loadmat(mat_fname)\n",
    "    # Extract the subject number from the file name\n",
    "    sub = mat_fname.split('_')[5]\n",
    "\n",
    "    # Extract values, risk, and ambiguity data from the MAT file\n",
    "    vals = pd.DataFrame(mat['Datamed'][0][0][8], columns = ['value'])\n",
    "    risk = pd.DataFrame(mat['Datamed'][0][0][9], columns = ['risk']) \n",
    "    ambiguity = pd.DataFrame(mat['Datamed'][0][0][10], columns = ['ambiguity'])\n",
    "    \n",
    "    # Initialize lists to store choice and value data for each block\n",
    "    choice = []\n",
    "    value = []\n",
    "    # Iterate over each block and each trial within the block\n",
    "    try:\n",
    "        for j in range(4):\n",
    "            for i in range(21):    \n",
    "                choice.append(mat['Datamed'][0][0][17][j][i][0][0])\n",
    "\n",
    "                if mat['Datamed'][0][0][17][j][i][2][0] == 'no effect':\n",
    "                    value.append(mat['Datamed'][0][0][17][j][i][3][0])\n",
    "                else:\n",
    "                    value.append(mat['Datamed'][0][0][17][j][i][2][0])\n",
    "    except:\n",
    "        print(\"failed choice\", sub)\n",
    "        continue\n",
    "        \n",
    "    # Create a DataFrame for the current subject's data\n",
    "    db = pd.DataFrame(list(zip(choice, value)),\n",
    "               columns =['choice', 'value'])\n",
    "    \n",
    "    # Add values, risk, ambiguity, and subject number to the DataFrame\n",
    "    db['value'] = vals\n",
    "    db['risk'] = risk\n",
    "    db['ambiguity'] = ambiguity\n",
    "    db['sub'] = sub\n",
    "\n",
    "     # Replace textual choices with numerical codes\n",
    "    db['choice'] = db.choice.replace(['Conservative treatment: Slight improvement'], 0)\n",
    "    db['choice'] = db.choice.replace(['Experimental treatment'], 1)\n",
    "    db['choice'] = db.choice.replace(['None'], np.nan)\n",
    "\n",
    "    # Add reaction time data to the DataFrame\n",
    "    db['rt'] = pd.DataFrame(mat['Datamed']['rt'][0][0][0], columns = ['RT'])\n",
    "    \n",
    "    # Check for catch trials (where the choice is between a slight improvement for sure and a chance for a slight improvement) \n",
    "    # Print the subject number if they chose the lottery on more than 5 (out of 10) occasions. \n",
    "    catch = np.nansum(db.choice[db.value == 5])\n",
    "    if catch > 5:\n",
    "        print(sub, catch)\n",
    "    db['catch'] = catch\n",
    "    \n",
    "    # Concatenate the current subject's data to the main DataFrame\n",
    "    df = pd.concat([df,db])"
   ]
  },
  {
   "cell_type": "markdown",
   "id": "08bb4f94-5449-4107-97d6-25384da01dd0",
   "metadata": {},
   "source": [
    "Seven subjects failed the catch trials. One participant file corrupted.\n",
    "\n",
    "## Save Extracted Medical Data to CSV\n",
    "\n",
    "We save the concatenated data from all subjects into a CSV file."
   ]
  },
  {
   "cell_type": "code",
   "execution_count": 7,
   "id": "c2984376",
   "metadata": {},
   "outputs": [],
   "source": [
    "df.to_csv('data/med.csv')"
   ]
  },
  {
   "cell_type": "markdown",
   "id": "bdbadc46-9e4d-4fc2-93ec-94dbabb67d61",
   "metadata": {},
   "source": [
    "## Watermark\n",
    "\n",
    "Finally, we load the watermark extension to keep track of the notebook metadata."
   ]
  },
  {
   "cell_type": "code",
   "execution_count": 8,
   "id": "37b3ee2e-8cb5-4d38-9764-a6abb71e6382",
   "metadata": {},
   "outputs": [
    {
     "name": "stdout",
     "output_type": "stream",
     "text": [
      "Last updated: Mon Aug 05 2024\n",
      "\n",
      "Python implementation: CPython\n",
      "Python version       : 3.10.14\n",
      "IPython version      : 8.26.0\n",
      "\n",
      "xarray: 2024.7.0\n",
      "\n",
      "pandas: 2.2.2\n",
      "scipy : 1.12.0\n",
      "numpy : 1.23.5\n",
      "\n",
      "Watermark: 2.4.3\n",
      "\n"
     ]
    }
   ],
   "source": [
    "%load_ext watermark\n",
    "%watermark -n -u -v -iv -w -p xarray"
   ]
  }
 ],
 "metadata": {
  "kernelspec": {
   "display_name": "Python 3 (ipykernel)",
   "language": "python",
   "name": "python3"
  },
  "language_info": {
   "codemirror_mode": {
    "name": "ipython",
    "version": 3
   },
   "file_extension": ".py",
   "mimetype": "text/x-python",
   "name": "python",
   "nbconvert_exporter": "python",
   "pygments_lexer": "ipython3",
   "version": "3.10.14"
  }
 },
 "nbformat": 4,
 "nbformat_minor": 5
}
