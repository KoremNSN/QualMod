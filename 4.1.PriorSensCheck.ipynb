{
 "cells": [
  {
   "cell_type": "code",
   "execution_count": 1,
   "id": "34978673-99e6-49df-ab35-0b375249c114",
   "metadata": {},
   "outputs": [],
   "source": [
    "import pandas as pd\n",
    "import numpy as np\n",
    "#import scipy as sp\n",
    "\n",
    "import pymc as pm\n",
    "import arviz as az\n",
    "\n",
    "import matplotlib.pyplot as plt\n",
    "import seaborn as sns\n",
    "\n",
    "import warnings\n",
    "warnings.filterwarnings('ignore')\n",
    "\n",
    "import logging\n",
    "logger = logging.getLogger(\"pymc\")\n",
    "logger.propagate = False\n",
    "logger.setLevel(logging.ERROR)"
   ]
  },
  {
   "cell_type": "code",
   "execution_count": 2,
   "id": "1c462a2b-c4d3-4c18-9340-0cd4fba0ad22",
   "metadata": {},
   "outputs": [
    {
     "name": "stdout",
     "output_type": "stream",
     "text": [
      "Participants sensetivity  66\n"
     ]
    }
   ],
   "source": [
    "db_mon = pd.read_csv('data/mon_clean.csv')\n",
    "db_med = pd.read_csv('data/med_clean.csv')\n",
    "\n",
    "print('Participants sensetivity ', len(db_mon['sub'].unique()))"
   ]
  },
  {
   "cell_type": "code",
   "execution_count": 3,
   "id": "2e9f7f16-0d9a-4f85-ae2f-0cef51322130",
   "metadata": {},
   "outputs": [],
   "source": [
    "# Assign a unique serial number for each participant.\n",
    "db_mon['subn'] = db_mon['sub'].rank(method='dense').astype(int) - 1\n",
    "\n",
    "# Count the number of unique subjects in the 'db_mon' dataset.\n",
    "n_subs = db_mon['subn'].unique().shape[0]\n",
    "\n",
    "# Create a list of subject indices for all rows in the 'db_mon' dataset.\n",
    "idx = db_mon.subn.tolist()\n",
    "\n",
    "# Assign a unique serial number for each participant. This will be useful for indexing operations.\n",
    "db_med['subn'] = db_med['sub'].rank(method='dense').astype(int) - 1\n",
    "\n",
    "# Count the number of unique subjects in the 'db_med' dataset.\n",
    "n_subs_med = db_med['subn'].unique().shape[0]\n",
    "\n",
    "# Create a list of subject indices for all rows in the 'db_med' dataset.\n",
    "idx_med = db_med.subn.tolist()"
   ]
  },
  {
   "cell_type": "code",
   "execution_count": 4,
   "id": "813e38bb-e866-4110-8b1b-1e2dbae3fb9b",
   "metadata": {},
   "outputs": [],
   "source": [
    "def Utility_less_informed(df, n_subs, idx):\n",
    "    \"\"\"\n",
    "    Estimate the utility function of the subjects using a model that accounts for both the value of an outcome \n",
    "    and the probability of its occurrence.\n",
    "\n",
    "    Parameters:\n",
    "    - df: DataFrame containing data on choice, value levels, risk, and ambiguity for each trial.\n",
    "    - n_subs: Number of subjects in the dataset.\n",
    "    - idx: Subject index for each trial (used for modeling individual variations).\n",
    "\n",
    "    Returns:\n",
    "    - trace: Samples from the posterior distribution.\n",
    "    \"\"\"\n",
    "    \n",
    "    # Define the probabilistic model for utility function\n",
    "    with pm.Model() as Utility:\n",
    "        \n",
    "        # Hyperpriors define group-level distributions for subject-specific parameters.\n",
    "        alpha_a = pm.TruncatedNormal('alpha_a', 1, 1, lower = 0)  # Shape parameter for risk attitude\n",
    "        alpha_b = pm.TruncatedNormal('alpha_b', 1, 1, lower = 0)  # Rate parameter for risk attitude\n",
    "        bMu     = pm.TruncatedNormal('bMu', 0, 1, lower = -1.5, upper = 1.5)  # Group-level mean for ambiguity modulation\n",
    "        bSig    = pm.Gamma('bSig', 2, 1)  # Group-level standard deviation for ambiguity modulation\n",
    "\n",
    "        # Individual subject priors.\n",
    "        alpha = pm.Beta('alpha', alpha_a, alpha_b, shape = n_subs)                        # Subject-specific utility curvature\n",
    "        α     = pm.Deterministic('α', alpha * 2)                                               # Double the value of alpha for further computations\n",
    "        β     = pm.TruncatedNormal('β', bMu, bSig, lower = -1.5, upper = 1.5, shape = n_subs) # Ambiguity modulation\n",
    "        γ     = pm.LogNormal('γ', 0, .25, shape = n_subs)                                   # Inverse temperature parameter\n",
    "\n",
    "        # Calculate expected value of outcome using a power function.\n",
    "        value = df['value'].values ** α[idx]  # Subjective value based on curvature parameter\n",
    "        prob  = df['risk'].values  - (β[idx] * (df['ambiguity'].values/2))  # Probability of outcome considering ambiguity\n",
    "\n",
    "        # Calculate subjective value (SV) of the lottery for each trial\n",
    "        svLotto = value * prob\n",
    "        svRef   = 5 ** α[idx]  # Reference value\n",
    "\n",
    "        # Convert SV into a probability of choosing the lottery using the inverse logit function.\n",
    "        p  = (svLotto - svRef) / γ[idx]\n",
    "        mu = pm.invlogit(p)\n",
    "\n",
    "        # Define likelihood of observations using a Binomial distribution, as choice is binary.\n",
    "        choice = pm.Binomial('choice', 1, mu, observed=df['choice'])\n",
    "\n",
    "        trace = pm.sample(idata_kwargs={'log_likelihood':True})\n",
    "           \n",
    "    return(trace)\n",
    "\n"
   ]
  },
  {
   "cell_type": "code",
   "execution_count": 5,
   "id": "6f2aa169-ad9b-4466-92e5-df3d0aaccf54",
   "metadata": {
    "scrolled": true
   },
   "outputs": [],
   "source": [
    "def Utility_uninformed(df, n_subs, idx):\n",
    "    \"\"\"\n",
    "    Estimate the utility function of the subjects using a model that accounts for both the value of an outcome \n",
    "    and the probability of its occurrence.\n",
    "\n",
    "    Parameters:\n",
    "    - df: DataFrame containing data on choice, value levels, risk, and ambiguity for each trial.\n",
    "    - n_subs: Number of subjects in the dataset.\n",
    "    - idx: Subject index for each trial (used for modeling individual variations).\n",
    "\n",
    "    Returns:\n",
    "    - trace: Samples from the posterior distribution.\n",
    "    \"\"\"\n",
    "    \n",
    "    # Define the probabilistic model for utility function\n",
    "    with pm.Model() as Utility:\n",
    "        \n",
    "\n",
    "        # Individual subject priors.\n",
    "        α     = pm.Uniform('α', .1,  1.8, shape = n_subs)                                               # Double the value of alpha for further computations\n",
    "        β     = pm.Uniform('β', -1, 1, shape = n_subs) # Ambiguity modulation\n",
    "        γ     = pm.LogNormal('γ', 0, .25, shape = n_subs)                                   # Inverse temperature parameter\n",
    "\n",
    "        # Calculate expected value of outcome using a power function.\n",
    "        value = df['value'].values ** α[idx]  # Subjective value based on curvature parameter\n",
    "        prob  = df['risk'].values  - (β[idx] * (df['ambiguity'].values/2))  # Probability of outcome considering ambiguity\n",
    "\n",
    "        # Calculate subjective value (SV) of the lottery for each trial\n",
    "        svLotto = value * prob\n",
    "        svRef   = 5 ** α[idx]  # Reference value\n",
    "\n",
    "        # Convert SV into a probability of choosing the lottery using the inverse logit function.\n",
    "        p  = (svLotto - svRef) / 1\n",
    "        mu = pm.invlogit(p)\n",
    "\n",
    "        # Define likelihood of observations using a Binomial distribution, as choice is binary.\n",
    "        choice = pm.Binomial('choice', 1, mu, observed=df['choice'])\n",
    "\n",
    "        trace = pm.sample(idata_kwargs={'log_likelihood':True})\n",
    "           \n",
    "    return(trace)\n",
    "\n"
   ]
  },
  {
   "cell_type": "code",
   "execution_count": 6,
   "id": "09e4723c-3d55-4a04-a55d-03d24176364a",
   "metadata": {},
   "outputs": [],
   "source": [
    "def estamte_values_less(df, n_subs, idx):\n",
    "    \"\"\"\n",
    "    Estimate the value of different reward levels using ordinal constraints and a common hyperprior for each level. \n",
    "    The model ensures that the levels are positive (ordinal constraints).\n",
    "\n",
    "    Parameters:\n",
    "    - df: DataFrame with trial-specific details, such as choices, value levels, risk, and ambiguity levels.\n",
    "    - n_sub: Total number of subjects in the dataset.\n",
    "    - idx: A list indicating the subject ID for each observation/trial.\n",
    "\n",
    "    Returns:\n",
    "    - trace: Samples from the posterior distribution of the model.\n",
    "    \"\"\"\n",
    "    \n",
    "    with pm.Model() as estimate:\n",
    "\n",
    "        # Hyperparameters for group-level distributions\n",
    "        bMu  = pm.Normal('bMu', 0, 1)     # Mean for ambiguity effect distribution\n",
    "        bSig = pm.Gamma('bSig', 2, 1)       # SD for ambiguity effect distribution\n",
    "\n",
    "        # Hyperparameters for group-level subjective value levels\n",
    "        l1Mu = pm.TruncatedNormal('l1Mu', 4, 1, lower=0)  # Mean for value of level 1\n",
    "        l2Mu = pm.TruncatedNormal('l2Mu', 4, 1, lower=0)  # ... level 2\n",
    "        l3Mu = pm.TruncatedNormal('l3Mu', 4, 1, lower=0)  # ... level 3\n",
    "        l4Mu = pm.TruncatedNormal('l4Mu', 4, 1, lower=0)  # ... level 4\n",
    "        \n",
    "        l1sd = pm.Gamma('l1sd', 2, 1)  # SD for value of level 1\n",
    "        l2sd = pm.Gamma('l2sd', 2, 1)  # ... level 2\n",
    "        l3sd = pm.Gamma('l3sd', 2, 1)  # ... level 3\n",
    "        l4sd = pm.Gamma('l4sd', 2, 1)  # ... level 4\n",
    "        \n",
    "        # Subject-specific priors \n",
    "        β = pm.Normal('β',    bMu, bSig, shape = n_subs)   # Modulation of ambiguity effect\n",
    "        γ = pm.Lognormal('γ', 0, 0.25, shape = n_subs)   # Inverse temperature, impacting choice stochasticity\n",
    "\n",
    "        # Priors for subjective values of the different reward levels for each subject.\n",
    "        level1 = pm.TruncatedNormal('level1', l1Mu, l1sd, lower = 0, shape = n_subs)\n",
    "        level2 = pm.TruncatedNormal('level2', l2Mu, l2sd, lower = 0, shape = n_subs)\n",
    "        level3 = pm.TruncatedNormal('level3', l3Mu, l3sd, lower = 0, shape = n_subs)\n",
    "        level4 = pm.TruncatedNormal('level4', l4Mu, l4sd, lower = 0, shape = n_subs)\n",
    "\n",
    "        # Calculate the total expected value for each trial by combining values from different levels\n",
    "        val = (df['l1'].values * level1[idx] + \n",
    "               df['l2'].values * level2[idx] + \n",
    "               df['l3'].values * level3[idx] + \n",
    "               df['l4'].values * level4[idx]) \n",
    "\n",
    "        # Calculate adjusted probability by considering both risk and ambiguity levels modulated by β\n",
    "        prob = (df['risk'].values) - (β[idx] * (df['ambiguity'].values/2))  \n",
    "\n",
    "        # Compute the subjective value of the lottery option\n",
    "        svLotto = val * prob\n",
    "        svRef   = level1[idx]  # The subjective value of the reference option\n",
    "\n",
    "        # Transform the SV difference between lottery and reference into a choice probability using the logistic function\n",
    "        p  = (svLotto - svRef) / γ[idx]\n",
    "        mu = pm.invlogit(p)\n",
    "\n",
    "        # Likelihood of the observed choices given the computed probabilities\n",
    "        choice = pm.Binomial('choice', 1, mu, observed=df['choice'])\n",
    "\n",
    "        trace = pm.sample(idata_kwargs={'log_likelihood':True})\n",
    "        \n",
    "    return trace\n",
    "\n"
   ]
  },
  {
   "cell_type": "code",
   "execution_count": 7,
   "id": "1ae10bbc-2e0e-4578-a8bc-6cd0ad6ccf83",
   "metadata": {},
   "outputs": [
    {
     "data": {
      "text/html": [
       "\n",
       "<style>\n",
       "    /* Turns off some styling */\n",
       "    progress {\n",
       "        /* gets rid of default border in Firefox and Opera. */\n",
       "        border: none;\n",
       "        /* Needs to be in here for Safari polyfill so background images work as expected. */\n",
       "        background-size: auto;\n",
       "    }\n",
       "    progress:not([value]), progress:not([value])::-webkit-progress-bar {\n",
       "        background: repeating-linear-gradient(45deg, #7e7e7e, #7e7e7e 10px, #5c5c5c 10px, #5c5c5c 20px);\n",
       "    }\n",
       "    .progress-bar-interrupted, .progress-bar-interrupted::-webkit-progress-bar {\n",
       "        background: #F44336;\n",
       "    }\n",
       "</style>\n"
      ],
      "text/plain": [
       "<IPython.core.display.HTML object>"
      ]
     },
     "metadata": {},
     "output_type": "display_data"
    },
    {
     "data": {
      "text/html": [
       "\n",
       "    <div>\n",
       "      <progress value='8000' class='' max='8000' style='width:300px; height:20px; vertical-align: middle;'></progress>\n",
       "      100.00% [8000/8000 00:59&lt;00:00 Sampling 4 chains, 0 divergences]\n",
       "    </div>\n",
       "    "
      ],
      "text/plain": [
       "<IPython.core.display.HTML object>"
      ]
     },
     "metadata": {},
     "output_type": "display_data"
    },
    {
     "data": {
      "text/html": [
       "\n",
       "<style>\n",
       "    /* Turns off some styling */\n",
       "    progress {\n",
       "        /* gets rid of default border in Firefox and Opera. */\n",
       "        border: none;\n",
       "        /* Needs to be in here for Safari polyfill so background images work as expected. */\n",
       "        background-size: auto;\n",
       "    }\n",
       "    progress:not([value]), progress:not([value])::-webkit-progress-bar {\n",
       "        background: repeating-linear-gradient(45deg, #7e7e7e, #7e7e7e 10px, #5c5c5c 10px, #5c5c5c 20px);\n",
       "    }\n",
       "    .progress-bar-interrupted, .progress-bar-interrupted::-webkit-progress-bar {\n",
       "        background: #F44336;\n",
       "    }\n",
       "</style>\n"
      ],
      "text/plain": [
       "<IPython.core.display.HTML object>"
      ]
     },
     "metadata": {},
     "output_type": "display_data"
    },
    {
     "data": {
      "text/html": [
       "\n",
       "    <div>\n",
       "      <progress value='8000' class='' max='8000' style='width:300px; height:20px; vertical-align: middle;'></progress>\n",
       "      100.00% [8000/8000 00:40&lt;00:00 Sampling 4 chains, 0 divergences]\n",
       "    </div>\n",
       "    "
      ],
      "text/plain": [
       "<IPython.core.display.HTML object>"
      ]
     },
     "metadata": {},
     "output_type": "display_data"
    },
    {
     "data": {
      "text/html": [
       "\n",
       "<style>\n",
       "    /* Turns off some styling */\n",
       "    progress {\n",
       "        /* gets rid of default border in Firefox and Opera. */\n",
       "        border: none;\n",
       "        /* Needs to be in here for Safari polyfill so background images work as expected. */\n",
       "        background-size: auto;\n",
       "    }\n",
       "    progress:not([value]), progress:not([value])::-webkit-progress-bar {\n",
       "        background: repeating-linear-gradient(45deg, #7e7e7e, #7e7e7e 10px, #5c5c5c 10px, #5c5c5c 20px);\n",
       "    }\n",
       "    .progress-bar-interrupted, .progress-bar-interrupted::-webkit-progress-bar {\n",
       "        background: #F44336;\n",
       "    }\n",
       "</style>\n"
      ],
      "text/plain": [
       "<IPython.core.display.HTML object>"
      ]
     },
     "metadata": {},
     "output_type": "display_data"
    },
    {
     "data": {
      "text/html": [
       "\n",
       "    <div>\n",
       "      <progress value='8000' class='' max='8000' style='width:300px; height:20px; vertical-align: middle;'></progress>\n",
       "      100.00% [8000/8000 01:50&lt;00:00 Sampling 4 chains, 0 divergences]\n",
       "    </div>\n",
       "    "
      ],
      "text/plain": [
       "<IPython.core.display.HTML object>"
      ]
     },
     "metadata": {},
     "output_type": "display_data"
    },
    {
     "data": {
      "text/html": [
       "\n",
       "<style>\n",
       "    /* Turns off some styling */\n",
       "    progress {\n",
       "        /* gets rid of default border in Firefox and Opera. */\n",
       "        border: none;\n",
       "        /* Needs to be in here for Safari polyfill so background images work as expected. */\n",
       "        background-size: auto;\n",
       "    }\n",
       "    progress:not([value]), progress:not([value])::-webkit-progress-bar {\n",
       "        background: repeating-linear-gradient(45deg, #7e7e7e, #7e7e7e 10px, #5c5c5c 10px, #5c5c5c 20px);\n",
       "    }\n",
       "    .progress-bar-interrupted, .progress-bar-interrupted::-webkit-progress-bar {\n",
       "        background: #F44336;\n",
       "    }\n",
       "</style>\n"
      ],
      "text/plain": [
       "<IPython.core.display.HTML object>"
      ]
     },
     "metadata": {},
     "output_type": "display_data"
    },
    {
     "data": {
      "text/html": [
       "\n",
       "    <div>\n",
       "      <progress value='8000' class='' max='8000' style='width:300px; height:20px; vertical-align: middle;'></progress>\n",
       "      100.00% [8000/8000 01:42&lt;00:00 Sampling 4 chains, 0 divergences]\n",
       "    </div>\n",
       "    "
      ],
      "text/plain": [
       "<IPython.core.display.HTML object>"
      ]
     },
     "metadata": {},
     "output_type": "display_data"
    }
   ],
   "source": [
    "mon_utility_less = Utility_less_informed(db_mon, n_subs, idx)\n",
    "mon_utility_un = Utility_uninformed(db_mon, n_subs, idx)\n",
    "med_estimated_less = estamte_values_less(db_med, n_subs_med, idx_med)\n",
    "mon_estimated_less = estamte_values_less(db_mon, n_subs, idx)"
   ]
  },
  {
   "cell_type": "code",
   "execution_count": 8,
   "id": "dbc2ca25-96ef-4c49-b02a-f61884a779b8",
   "metadata": {},
   "outputs": [],
   "source": [
    "mon_utility = az.from_netcdf('data/mon_utility.nc')\n",
    "mon_estimte = az.from_netcdf('data/mon_estimated.nc')\n",
    "med_estimte = az.from_netcdf('data/med_estimated.nc')"
   ]
  },
  {
   "cell_type": "code",
   "execution_count": 9,
   "id": "b73ddfa5-9634-4a12-b0e2-c87ef52c2ae8",
   "metadata": {},
   "outputs": [
    {
     "data": {
      "text/html": [
       "<div>\n",
       "<style scoped>\n",
       "    .dataframe tbody tr th:only-of-type {\n",
       "        vertical-align: middle;\n",
       "    }\n",
       "\n",
       "    .dataframe tbody tr th {\n",
       "        vertical-align: top;\n",
       "    }\n",
       "\n",
       "    .dataframe thead th {\n",
       "        text-align: right;\n",
       "    }\n",
       "</style>\n",
       "<table border=\"1\" class=\"dataframe\">\n",
       "  <thead>\n",
       "    <tr style=\"text-align: right;\">\n",
       "      <th></th>\n",
       "      <th>rank</th>\n",
       "      <th>elpd_loo</th>\n",
       "      <th>p_loo</th>\n",
       "      <th>elpd_diff</th>\n",
       "      <th>weight</th>\n",
       "      <th>se</th>\n",
       "      <th>dse</th>\n",
       "      <th>warning</th>\n",
       "      <th>scale</th>\n",
       "    </tr>\n",
       "  </thead>\n",
       "  <tbody>\n",
       "    <tr>\n",
       "      <th>Informed</th>\n",
       "      <td>0</td>\n",
       "      <td>-1910.825185</td>\n",
       "      <td>142.759436</td>\n",
       "      <td>0.000000</td>\n",
       "      <td>4.974235e-01</td>\n",
       "      <td>42.372425</td>\n",
       "      <td>0.000000</td>\n",
       "      <td>True</td>\n",
       "      <td>log</td>\n",
       "    </tr>\n",
       "    <tr>\n",
       "      <th>Less informed</th>\n",
       "      <td>1</td>\n",
       "      <td>-1911.938954</td>\n",
       "      <td>147.298042</td>\n",
       "      <td>1.113769</td>\n",
       "      <td>5.025765e-01</td>\n",
       "      <td>42.691713</td>\n",
       "      <td>58.417610</td>\n",
       "      <td>True</td>\n",
       "      <td>log</td>\n",
       "    </tr>\n",
       "    <tr>\n",
       "      <th>Uninformed</th>\n",
       "      <td>2</td>\n",
       "      <td>-2063.471038</td>\n",
       "      <td>124.791533</td>\n",
       "      <td>152.645853</td>\n",
       "      <td>1.676437e-14</td>\n",
       "      <td>42.024955</td>\n",
       "      <td>58.016006</td>\n",
       "      <td>True</td>\n",
       "      <td>log</td>\n",
       "    </tr>\n",
       "  </tbody>\n",
       "</table>\n",
       "</div>"
      ],
      "text/plain": [
       "               rank     elpd_loo       p_loo   elpd_diff        weight  \\\n",
       "Informed          0 -1910.825185  142.759436    0.000000  4.974235e-01   \n",
       "Less informed     1 -1911.938954  147.298042    1.113769  5.025765e-01   \n",
       "Uninformed        2 -2063.471038  124.791533  152.645853  1.676437e-14   \n",
       "\n",
       "                      se        dse  warning scale  \n",
       "Informed       42.372425   0.000000     True   log  \n",
       "Less informed  42.691713  58.417610     True   log  \n",
       "Uninformed     42.024955  58.016006     True   log  "
      ]
     },
     "execution_count": 9,
     "metadata": {},
     "output_type": "execute_result"
    }
   ],
   "source": [
    "compare_dict = {'Informed': mon_utility,\n",
    "                'Uninformed': mon_utility_un, \n",
    "                'Less informed': mon_utility_less\n",
    "\n",
    "}\n",
    "\n",
    "comp = az.compare(compare_dict)\n",
    "comp"
   ]
  },
  {
   "cell_type": "code",
   "execution_count": 10,
   "id": "d097bde5-4252-4c83-8c61-1310200895bf",
   "metadata": {},
   "outputs": [
    {
     "data": {
      "text/html": [
       "<div>\n",
       "<style scoped>\n",
       "    .dataframe tbody tr th:only-of-type {\n",
       "        vertical-align: middle;\n",
       "    }\n",
       "\n",
       "    .dataframe tbody tr th {\n",
       "        vertical-align: top;\n",
       "    }\n",
       "\n",
       "    .dataframe thead th {\n",
       "        text-align: right;\n",
       "    }\n",
       "</style>\n",
       "<table border=\"1\" class=\"dataframe\">\n",
       "  <thead>\n",
       "    <tr style=\"text-align: right;\">\n",
       "      <th></th>\n",
       "      <th>rank</th>\n",
       "      <th>elpd_loo</th>\n",
       "      <th>p_loo</th>\n",
       "      <th>elpd_diff</th>\n",
       "      <th>weight</th>\n",
       "      <th>se</th>\n",
       "      <th>dse</th>\n",
       "      <th>warning</th>\n",
       "      <th>scale</th>\n",
       "    </tr>\n",
       "  </thead>\n",
       "  <tbody>\n",
       "    <tr>\n",
       "      <th>Estimated informed</th>\n",
       "      <td>0</td>\n",
       "      <td>-1563.264091</td>\n",
       "      <td>225.645489</td>\n",
       "      <td>0.000000</td>\n",
       "      <td>0.500976</td>\n",
       "      <td>45.629713</td>\n",
       "      <td>0.000000</td>\n",
       "      <td>True</td>\n",
       "      <td>log</td>\n",
       "    </tr>\n",
       "    <tr>\n",
       "      <th>Estimated Less informed</th>\n",
       "      <td>1</td>\n",
       "      <td>-1563.947680</td>\n",
       "      <td>221.142249</td>\n",
       "      <td>0.683588</td>\n",
       "      <td>0.499024</td>\n",
       "      <td>45.122609</td>\n",
       "      <td>62.406159</td>\n",
       "      <td>True</td>\n",
       "      <td>log</td>\n",
       "    </tr>\n",
       "  </tbody>\n",
       "</table>\n",
       "</div>"
      ],
      "text/plain": [
       "                         rank     elpd_loo       p_loo  elpd_diff    weight  \\\n",
       "Estimated informed          0 -1563.264091  225.645489   0.000000  0.500976   \n",
       "Estimated Less informed     1 -1563.947680  221.142249   0.683588  0.499024   \n",
       "\n",
       "                                se        dse  warning scale  \n",
       "Estimated informed       45.629713   0.000000     True   log  \n",
       "Estimated Less informed  45.122609  62.406159     True   log  "
      ]
     },
     "execution_count": 10,
     "metadata": {},
     "output_type": "execute_result"
    }
   ],
   "source": [
    "compare_dict = {'Estimated informed': mon_estimte,\n",
    "                'Estimated Less informed': mon_estimated_less\n",
    "\n",
    "}\n",
    "\n",
    "comp = az.compare(compare_dict)\n",
    "comp"
   ]
  },
  {
   "cell_type": "code",
   "execution_count": 11,
   "id": "c5311b53-a121-430c-a303-2d20ba295297",
   "metadata": {},
   "outputs": [
    {
     "data": {
      "text/html": [
       "<div>\n",
       "<style scoped>\n",
       "    .dataframe tbody tr th:only-of-type {\n",
       "        vertical-align: middle;\n",
       "    }\n",
       "\n",
       "    .dataframe tbody tr th {\n",
       "        vertical-align: top;\n",
       "    }\n",
       "\n",
       "    .dataframe thead th {\n",
       "        text-align: right;\n",
       "    }\n",
       "</style>\n",
       "<table border=\"1\" class=\"dataframe\">\n",
       "  <thead>\n",
       "    <tr style=\"text-align: right;\">\n",
       "      <th></th>\n",
       "      <th>rank</th>\n",
       "      <th>elpd_loo</th>\n",
       "      <th>p_loo</th>\n",
       "      <th>elpd_diff</th>\n",
       "      <th>weight</th>\n",
       "      <th>se</th>\n",
       "      <th>dse</th>\n",
       "      <th>warning</th>\n",
       "      <th>scale</th>\n",
       "    </tr>\n",
       "  </thead>\n",
       "  <tbody>\n",
       "    <tr>\n",
       "      <th>Estimated informed</th>\n",
       "      <td>0</td>\n",
       "      <td>-1411.889924</td>\n",
       "      <td>210.829484</td>\n",
       "      <td>0.000000</td>\n",
       "      <td>0.502701</td>\n",
       "      <td>45.144321</td>\n",
       "      <td>0.000000</td>\n",
       "      <td>True</td>\n",
       "      <td>log</td>\n",
       "    </tr>\n",
       "    <tr>\n",
       "      <th>Estimated Less informed</th>\n",
       "      <td>1</td>\n",
       "      <td>-1415.098212</td>\n",
       "      <td>210.787234</td>\n",
       "      <td>3.208288</td>\n",
       "      <td>0.497299</td>\n",
       "      <td>44.862388</td>\n",
       "      <td>62.239157</td>\n",
       "      <td>True</td>\n",
       "      <td>log</td>\n",
       "    </tr>\n",
       "  </tbody>\n",
       "</table>\n",
       "</div>"
      ],
      "text/plain": [
       "                         rank     elpd_loo       p_loo  elpd_diff    weight  \\\n",
       "Estimated informed          0 -1411.889924  210.829484   0.000000  0.502701   \n",
       "Estimated Less informed     1 -1415.098212  210.787234   3.208288  0.497299   \n",
       "\n",
       "                                se        dse  warning scale  \n",
       "Estimated informed       45.144321   0.000000     True   log  \n",
       "Estimated Less informed  44.862388  62.239157     True   log  "
      ]
     },
     "execution_count": 11,
     "metadata": {},
     "output_type": "execute_result"
    }
   ],
   "source": [
    "compare_dict = {'Estimated informed': med_estimte,\n",
    "                'Estimated Less informed': med_estimated_less\n",
    "\n",
    "}\n",
    "\n",
    "comp = az.compare(compare_dict)\n",
    "comp"
   ]
  },
  {
   "cell_type": "code",
   "execution_count": 12,
   "id": "b850e879-cc46-4e3a-84de-9ceb21e36e71",
   "metadata": {},
   "outputs": [
    {
     "name": "stdout",
     "output_type": "stream",
     "text": [
      "Last updated: Tue Aug 06 2024\n",
      "\n",
      "Python implementation: CPython\n",
      "Python version       : 3.10.14\n",
      "IPython version      : 8.26.0\n",
      "\n",
      "xarray: 2024.7.0\n",
      "\n",
      "seaborn   : 0.13.2\n",
      "arviz     : 0.17.1\n",
      "matplotlib: 3.9.1\n",
      "logging   : 0.5.1.2\n",
      "pandas    : 2.2.2\n",
      "pymc      : 4.1.7\n",
      "numpy     : 1.23.5\n",
      "\n",
      "Watermark: 2.4.3\n",
      "\n"
     ]
    }
   ],
   "source": [
    "%load_ext watermark\n",
    "%watermark -n -u -v -iv -w -p xarray"
   ]
  }
 ],
 "metadata": {
  "kernelspec": {
   "display_name": "Python 3 (ipykernel)",
   "language": "python",
   "name": "python3"
  },
  "language_info": {
   "codemirror_mode": {
    "name": "ipython",
    "version": 3
   },
   "file_extension": ".py",
   "mimetype": "text/x-python",
   "name": "python",
   "nbconvert_exporter": "python",
   "pygments_lexer": "ipython3",
   "version": "3.10.14"
  }
 },
 "nbformat": 4,
 "nbformat_minor": 5
}
